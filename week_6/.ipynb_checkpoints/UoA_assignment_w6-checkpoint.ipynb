{
 "cells": [
  {
   "cell_type": "markdown",
   "id": "a7a57a88",
   "metadata": {
    "id": "a7a57a88"
   },
   "source": [
    "### Assignment 6: DBSCAN, OPTICS, BIRCH Clustering"
   ]
  },
  {
   "cell_type": "markdown",
   "id": "18dd2af6",
   "metadata": {
    "id": "18dd2af6"
   },
   "source": [
    "### Objective:\n",
    "To build Unsupervised model like DBSCAN, OPTICS, BIRCH Clustering to discover hidden and interesting patterns inside the data. Comparing the results of all, Visualizing and interpreting the formed clusters."
   ]
  },
  {
   "cell_type": "markdown",
   "id": "cf68d13e",
   "metadata": {
    "id": "cf68d13e"
   },
   "source": [
    "### Fatal Police Shooting Data\n",
    "\n",
    "**About dataset**\\\n",
    "The dataset consists of following columns\n",
    "1. **id**                         : unqiue identifier of each victim\n",
    "2. **name**                       : name of a victim\n",
    "3. **date**                       : date on fatal shooting \n",
    "4. **manner_of_death**            : manner of death classification\n",
    "    * Shot\n",
    "    * Shot and Tasered\n",
    "5. **armed**                      : indicates that the victim was armed with some sort of implement that a police officer believed could inflict harm\n",
    "    * undetermined: it is not known whether or not the victim had a weapon\n",
    "    * unknown: the victim was armed, but it is not known what the object was\n",
    "    * unarmed: the victim was not armed\n",
    "6. **age**                        : age of victim\n",
    "7. **gender**                     : the gender of the victim. The Post identifies victims by the gender they identify with if reports indicate that it differs from their biological sex.\n",
    "    * M: Male\n",
    "    * F: Female\n",
    "    * None: Unknown\n",
    "8. **race**                       : race of victim\n",
    "    * W: White, non-Hispanic\n",
    "    * B: Black, non-Hispanic\n",
    "    * A: Asian\n",
    "    * N: Native American\n",
    "    * H: Hispanic\n",
    "    * O: Other\n",
    "    * None: unknown\n",
    "9. **city**                       : the municipality where the fatal shooting took place. Note that in some cases this field may contain a county name if a more specific municipality is unavailable or unknown.\n",
    "10. **state**                     : two-letter postal code abbreviation\n",
    "11. **signs_of_mental_illness**   : News reports have indicated the victim had a history of mental health issues, expressed suicidal intentions or was experiencing mental distress at the time of the shooting.\n",
    "12. **threat_level**              : These would include incidents where officers or others were shot at, threatened with a gun, attacked with other weapons or physical force, etc. The attack category is meant to flag the highest level of threat. The other and undetermined categories represent all remaining cases. Other includes many incidents where officers or others faced significant threats. \n",
    "13. **flee**                      : News reports have indicated the victim was moving away from officers\n",
    "    * Foot\n",
    "    * Car\n",
    "    * Not fleeing\n",
    "14. **body_camera**               : News reports have indicated an officer was wearing a body camera and it may have recorded some portion of the incident."
   ]
  },
  {
   "cell_type": "markdown",
   "id": "31d98260",
   "metadata": {
    "id": "31d98260"
   },
   "source": [
    "### Import all neccessary libraries"
   ]
  },
  {
   "cell_type": "code",
   "execution_count": 163,
   "id": "99f03c38",
   "metadata": {
    "id": "99f03c38"
   },
   "outputs": [],
   "source": [
    "# Libraries to help with reading and manipulating data\n",
    "import numpy as np\n",
    "import pandas as pd\n",
    "\n",
    "# Libraries to help with data visualization\n",
    "import matplotlib.pyplot as plt\n",
    "%matplotlib inline\n",
    "import seaborn as sns\n",
    "\n",
    "# To scale the data using z-score\n",
    "from sklearn.preprocessing import StandardScaler\n",
    "\n",
    "# to perform DBSCAN, OPTICS, BIRCH\n",
    "from sklearn.cluster import DBSCAN\n",
    "from sklearn.cluster import OPTICS\n",
    "from sklearn.cluster import Birch\n",
    "\n",
    "import copy\n",
    "\n",
    "import warnings\n",
    "warnings.filterwarnings('ignore')"
   ]
  },
  {
   "cell_type": "code",
   "execution_count": 164,
   "id": "8900d22f",
   "metadata": {
    "id": "8900d22f",
    "outputId": "9d1101cb-1dea-4ccf-c7f2-6644bb69eac7"
   },
   "outputs": [
    {
     "data": {
      "text/html": [
       "<div>\n",
       "<style scoped>\n",
       "    .dataframe tbody tr th:only-of-type {\n",
       "        vertical-align: middle;\n",
       "    }\n",
       "\n",
       "    .dataframe tbody tr th {\n",
       "        vertical-align: top;\n",
       "    }\n",
       "\n",
       "    .dataframe thead th {\n",
       "        text-align: right;\n",
       "    }\n",
       "</style>\n",
       "<table border=\"1\" class=\"dataframe\">\n",
       "  <thead>\n",
       "    <tr style=\"text-align: right;\">\n",
       "      <th></th>\n",
       "      <th>id</th>\n",
       "      <th>name</th>\n",
       "      <th>date</th>\n",
       "      <th>manner_of_death</th>\n",
       "      <th>armed</th>\n",
       "      <th>age</th>\n",
       "      <th>gender</th>\n",
       "      <th>race</th>\n",
       "      <th>city</th>\n",
       "      <th>state</th>\n",
       "      <th>signs_of_mental_illness</th>\n",
       "      <th>threat_level</th>\n",
       "      <th>flee</th>\n",
       "      <th>body_camera</th>\n",
       "    </tr>\n",
       "  </thead>\n",
       "  <tbody>\n",
       "    <tr>\n",
       "      <th>0</th>\n",
       "      <td>3</td>\n",
       "      <td>Tim Elliot</td>\n",
       "      <td>2015-01-02</td>\n",
       "      <td>shot</td>\n",
       "      <td>gun</td>\n",
       "      <td>53.0</td>\n",
       "      <td>M</td>\n",
       "      <td>A</td>\n",
       "      <td>Shelton</td>\n",
       "      <td>WA</td>\n",
       "      <td>True</td>\n",
       "      <td>attack</td>\n",
       "      <td>Not fleeing</td>\n",
       "      <td>False</td>\n",
       "    </tr>\n",
       "    <tr>\n",
       "      <th>1</th>\n",
       "      <td>4</td>\n",
       "      <td>Lewis Lee Lembke</td>\n",
       "      <td>2015-01-02</td>\n",
       "      <td>shot</td>\n",
       "      <td>gun</td>\n",
       "      <td>47.0</td>\n",
       "      <td>M</td>\n",
       "      <td>W</td>\n",
       "      <td>Aloha</td>\n",
       "      <td>OR</td>\n",
       "      <td>False</td>\n",
       "      <td>attack</td>\n",
       "      <td>Not fleeing</td>\n",
       "      <td>False</td>\n",
       "    </tr>\n",
       "    <tr>\n",
       "      <th>2</th>\n",
       "      <td>5</td>\n",
       "      <td>John Paul Quintero</td>\n",
       "      <td>2015-01-03</td>\n",
       "      <td>shot and Tasered</td>\n",
       "      <td>unarmed</td>\n",
       "      <td>23.0</td>\n",
       "      <td>M</td>\n",
       "      <td>H</td>\n",
       "      <td>Wichita</td>\n",
       "      <td>KS</td>\n",
       "      <td>False</td>\n",
       "      <td>other</td>\n",
       "      <td>Not fleeing</td>\n",
       "      <td>False</td>\n",
       "    </tr>\n",
       "    <tr>\n",
       "      <th>3</th>\n",
       "      <td>8</td>\n",
       "      <td>Matthew Hoffman</td>\n",
       "      <td>2015-01-04</td>\n",
       "      <td>shot</td>\n",
       "      <td>toy weapon</td>\n",
       "      <td>32.0</td>\n",
       "      <td>M</td>\n",
       "      <td>W</td>\n",
       "      <td>San Francisco</td>\n",
       "      <td>CA</td>\n",
       "      <td>True</td>\n",
       "      <td>attack</td>\n",
       "      <td>Not fleeing</td>\n",
       "      <td>False</td>\n",
       "    </tr>\n",
       "    <tr>\n",
       "      <th>4</th>\n",
       "      <td>9</td>\n",
       "      <td>Michael Rodriguez</td>\n",
       "      <td>2015-01-04</td>\n",
       "      <td>shot</td>\n",
       "      <td>nail gun</td>\n",
       "      <td>39.0</td>\n",
       "      <td>M</td>\n",
       "      <td>H</td>\n",
       "      <td>Evans</td>\n",
       "      <td>CO</td>\n",
       "      <td>False</td>\n",
       "      <td>attack</td>\n",
       "      <td>Not fleeing</td>\n",
       "      <td>False</td>\n",
       "    </tr>\n",
       "  </tbody>\n",
       "</table>\n",
       "</div>"
      ],
      "text/plain": [
       "   id                name        date   manner_of_death       armed   age  \\\n",
       "0   3          Tim Elliot  2015-01-02              shot         gun  53.0   \n",
       "1   4    Lewis Lee Lembke  2015-01-02              shot         gun  47.0   \n",
       "2   5  John Paul Quintero  2015-01-03  shot and Tasered     unarmed  23.0   \n",
       "3   8     Matthew Hoffman  2015-01-04              shot  toy weapon  32.0   \n",
       "4   9   Michael Rodriguez  2015-01-04              shot    nail gun  39.0   \n",
       "\n",
       "  gender race           city state  signs_of_mental_illness threat_level  \\\n",
       "0      M    A        Shelton    WA                     True       attack   \n",
       "1      M    W          Aloha    OR                    False       attack   \n",
       "2      M    H        Wichita    KS                    False        other   \n",
       "3      M    W  San Francisco    CA                     True       attack   \n",
       "4      M    H          Evans    CO                    False       attack   \n",
       "\n",
       "          flee  body_camera  \n",
       "0  Not fleeing        False  \n",
       "1  Not fleeing        False  \n",
       "2  Not fleeing        False  \n",
       "3  Not fleeing        False  \n",
       "4  Not fleeing        False  "
      ]
     },
     "execution_count": 164,
     "metadata": {},
     "output_type": "execute_result"
    }
   ],
   "source": [
    "police = pd.read_csv(\"fatal-police-shootings-data.csv\")\n",
    "police.head()"
   ]
  },
  {
   "cell_type": "code",
   "execution_count": 165,
   "id": "c2e607d0",
   "metadata": {
    "id": "c2e607d0",
    "outputId": "774fe343-3618-4597-ce7a-b286fc2114a7"
   },
   "outputs": [
    {
     "name": "stdout",
     "output_type": "stream",
     "text": [
      "<class 'pandas.core.frame.DataFrame'>\n",
      "RangeIndex: 4478 entries, 0 to 4477\n",
      "Data columns (total 14 columns):\n",
      " #   Column                   Non-Null Count  Dtype  \n",
      "---  ------                   --------------  -----  \n",
      " 0   id                       4478 non-null   int64  \n",
      " 1   name                     4478 non-null   object \n",
      " 2   date                     4478 non-null   object \n",
      " 3   manner_of_death          4478 non-null   object \n",
      " 4   armed                    4230 non-null   object \n",
      " 5   age                      4309 non-null   float64\n",
      " 6   gender                   4473 non-null   object \n",
      " 7   race                     4105 non-null   object \n",
      " 8   city                     4478 non-null   object \n",
      " 9   state                    4478 non-null   object \n",
      " 10  signs_of_mental_illness  4478 non-null   bool   \n",
      " 11  threat_level             4478 non-null   object \n",
      " 12  flee                     4299 non-null   object \n",
      " 13  body_camera              4478 non-null   bool   \n",
      "dtypes: bool(2), float64(1), int64(1), object(10)\n",
      "memory usage: 428.7+ KB\n"
     ]
    }
   ],
   "source": [
    "police.info()"
   ]
  },
  {
   "cell_type": "markdown",
   "id": "cff3f4d5",
   "metadata": {
    "id": "cff3f4d5"
   },
   "source": [
    "### Let's pre-process the data"
   ]
  },
  {
   "cell_type": "code",
   "execution_count": 166,
   "id": "6256a9f0",
   "metadata": {
    "id": "6256a9f0"
   },
   "outputs": [],
   "source": [
    "# Remove all the rows that contain missing value\n",
    "police = police.dropna()"
   ]
  },
  {
   "cell_type": "code",
   "execution_count": 167,
   "id": "d8ba2cb3",
   "metadata": {
    "id": "d8ba2cb3",
    "outputId": "1862625c-9780-4860-9e15-f1d538d87749"
   },
   "outputs": [
    {
     "data": {
      "text/plain": [
       "Index(['id', 'name', 'date', 'manner_of_death', 'armed', 'age', 'gender',\n",
       "       'race', 'city', 'state', 'signs_of_mental_illness', 'threat_level',\n",
       "       'flee', 'body_camera'],\n",
       "      dtype='object')"
      ]
     },
     "execution_count": 167,
     "metadata": {},
     "output_type": "execute_result"
    }
   ],
   "source": [
    "police.columns"
   ]
  },
  {
   "cell_type": "code",
   "execution_count": 168,
   "id": "05b79d04",
   "metadata": {
    "id": "05b79d04",
    "outputId": "0803c20a-801c-4519-b7ba-b28e7145c8ef"
   },
   "outputs": [
    {
     "data": {
      "text/html": [
       "<div>\n",
       "<style scoped>\n",
       "    .dataframe tbody tr th:only-of-type {\n",
       "        vertical-align: middle;\n",
       "    }\n",
       "\n",
       "    .dataframe tbody tr th {\n",
       "        vertical-align: top;\n",
       "    }\n",
       "\n",
       "    .dataframe thead th {\n",
       "        text-align: right;\n",
       "    }\n",
       "</style>\n",
       "<table border=\"1\" class=\"dataframe\">\n",
       "  <thead>\n",
       "    <tr style=\"text-align: right;\">\n",
       "      <th></th>\n",
       "      <th>manner_of_death</th>\n",
       "      <th>armed</th>\n",
       "      <th>age</th>\n",
       "      <th>gender</th>\n",
       "      <th>race</th>\n",
       "      <th>signs_of_mental_illness</th>\n",
       "      <th>threat_level</th>\n",
       "      <th>flee</th>\n",
       "      <th>body_camera</th>\n",
       "    </tr>\n",
       "  </thead>\n",
       "  <tbody>\n",
       "    <tr>\n",
       "      <th>0</th>\n",
       "      <td>shot</td>\n",
       "      <td>gun</td>\n",
       "      <td>53.0</td>\n",
       "      <td>M</td>\n",
       "      <td>A</td>\n",
       "      <td>True</td>\n",
       "      <td>attack</td>\n",
       "      <td>Not fleeing</td>\n",
       "      <td>False</td>\n",
       "    </tr>\n",
       "    <tr>\n",
       "      <th>1</th>\n",
       "      <td>shot</td>\n",
       "      <td>gun</td>\n",
       "      <td>47.0</td>\n",
       "      <td>M</td>\n",
       "      <td>W</td>\n",
       "      <td>False</td>\n",
       "      <td>attack</td>\n",
       "      <td>Not fleeing</td>\n",
       "      <td>False</td>\n",
       "    </tr>\n",
       "    <tr>\n",
       "      <th>2</th>\n",
       "      <td>shot and Tasered</td>\n",
       "      <td>unarmed</td>\n",
       "      <td>23.0</td>\n",
       "      <td>M</td>\n",
       "      <td>H</td>\n",
       "      <td>False</td>\n",
       "      <td>other</td>\n",
       "      <td>Not fleeing</td>\n",
       "      <td>False</td>\n",
       "    </tr>\n",
       "    <tr>\n",
       "      <th>3</th>\n",
       "      <td>shot</td>\n",
       "      <td>toy weapon</td>\n",
       "      <td>32.0</td>\n",
       "      <td>M</td>\n",
       "      <td>W</td>\n",
       "      <td>True</td>\n",
       "      <td>attack</td>\n",
       "      <td>Not fleeing</td>\n",
       "      <td>False</td>\n",
       "    </tr>\n",
       "    <tr>\n",
       "      <th>4</th>\n",
       "      <td>shot</td>\n",
       "      <td>nail gun</td>\n",
       "      <td>39.0</td>\n",
       "      <td>M</td>\n",
       "      <td>H</td>\n",
       "      <td>False</td>\n",
       "      <td>attack</td>\n",
       "      <td>Not fleeing</td>\n",
       "      <td>False</td>\n",
       "    </tr>\n",
       "  </tbody>\n",
       "</table>\n",
       "</div>"
      ],
      "text/plain": [
       "    manner_of_death       armed   age gender race  signs_of_mental_illness  \\\n",
       "0              shot         gun  53.0      M    A                     True   \n",
       "1              shot         gun  47.0      M    W                    False   \n",
       "2  shot and Tasered     unarmed  23.0      M    H                    False   \n",
       "3              shot  toy weapon  32.0      M    W                     True   \n",
       "4              shot    nail gun  39.0      M    H                    False   \n",
       "\n",
       "  threat_level         flee  body_camera  \n",
       "0       attack  Not fleeing        False  \n",
       "1       attack  Not fleeing        False  \n",
       "2        other  Not fleeing        False  \n",
       "3       attack  Not fleeing        False  \n",
       "4       attack  Not fleeing        False  "
      ]
     },
     "execution_count": 168,
     "metadata": {},
     "output_type": "execute_result"
    }
   ],
   "source": [
    "# Drop redundant features\n",
    "police = police.drop(['id','date','name','city','state'],axis=1)\n",
    "\n",
    "\n",
    "# We take a copy of our source data.\n",
    "df = copy.deepcopy(police)\n",
    "df.head()\n",
    "\n",
    "\n"
   ]
  },
  {
   "cell_type": "code",
   "execution_count": 169,
   "id": "bfbf6f8f",
   "metadata": {
    "id": "bfbf6f8f"
   },
   "outputs": [],
   "source": [
    "# Convert categorical variables to numeric\n",
    "for feature in df.columns: # Loop through all columns in the dataframe\n",
    "    if df[feature].dtype == 'object': # Only apply for columns with categorical strings\n",
    "        df[feature] = pd.Categorical(df[feature]).codes # Replace strings with an integer"
   ]
  },
  {
   "cell_type": "code",
   "execution_count": 170,
   "id": "1e3fb73d",
   "metadata": {
    "id": "1e3fb73d"
   },
   "outputs": [],
   "source": [
    "# Convert Boolean features to numeric\n",
    "df = pd.get_dummies(df, columns=['signs_of_mental_illness','body_camera'])\n",
    "df['signs_of_mental_illness_False'] = df['signs_of_mental_illness_False'].astype(int)\n",
    "df['signs_of_mental_illness_True'] = df['signs_of_mental_illness_True'].astype(int)\n",
    "df['body_camera_False'] = df['body_camera_False'].astype(int)\n",
    "df['body_camera_True'] = df['body_camera_True'].astype(int)"
   ]
  },
  {
   "cell_type": "code",
   "execution_count": 171,
   "id": "3d6c8ddd",
   "metadata": {
    "id": "3d6c8ddd",
    "outputId": "93798243-7db5-4588-810b-2ec8695cfc14"
   },
   "outputs": [
    {
     "data": {
      "text/html": [
       "<div>\n",
       "<style scoped>\n",
       "    .dataframe tbody tr th:only-of-type {\n",
       "        vertical-align: middle;\n",
       "    }\n",
       "\n",
       "    .dataframe tbody tr th {\n",
       "        vertical-align: top;\n",
       "    }\n",
       "\n",
       "    .dataframe thead th {\n",
       "        text-align: right;\n",
       "    }\n",
       "</style>\n",
       "<table border=\"1\" class=\"dataframe\">\n",
       "  <thead>\n",
       "    <tr style=\"text-align: right;\">\n",
       "      <th></th>\n",
       "      <th>manner_of_death</th>\n",
       "      <th>armed</th>\n",
       "      <th>age</th>\n",
       "      <th>gender</th>\n",
       "      <th>race</th>\n",
       "      <th>threat_level</th>\n",
       "      <th>flee</th>\n",
       "      <th>signs_of_mental_illness_False</th>\n",
       "      <th>signs_of_mental_illness_True</th>\n",
       "      <th>body_camera_False</th>\n",
       "      <th>body_camera_True</th>\n",
       "    </tr>\n",
       "  </thead>\n",
       "  <tbody>\n",
       "    <tr>\n",
       "      <th>0</th>\n",
       "      <td>0</td>\n",
       "      <td>30</td>\n",
       "      <td>53.0</td>\n",
       "      <td>1</td>\n",
       "      <td>0</td>\n",
       "      <td>0</td>\n",
       "      <td>2</td>\n",
       "      <td>0</td>\n",
       "      <td>1</td>\n",
       "      <td>1</td>\n",
       "      <td>0</td>\n",
       "    </tr>\n",
       "    <tr>\n",
       "      <th>1</th>\n",
       "      <td>0</td>\n",
       "      <td>30</td>\n",
       "      <td>47.0</td>\n",
       "      <td>1</td>\n",
       "      <td>5</td>\n",
       "      <td>0</td>\n",
       "      <td>2</td>\n",
       "      <td>1</td>\n",
       "      <td>0</td>\n",
       "      <td>1</td>\n",
       "      <td>0</td>\n",
       "    </tr>\n",
       "    <tr>\n",
       "      <th>2</th>\n",
       "      <td>1</td>\n",
       "      <td>75</td>\n",
       "      <td>23.0</td>\n",
       "      <td>1</td>\n",
       "      <td>2</td>\n",
       "      <td>1</td>\n",
       "      <td>2</td>\n",
       "      <td>1</td>\n",
       "      <td>0</td>\n",
       "      <td>1</td>\n",
       "      <td>0</td>\n",
       "    </tr>\n",
       "    <tr>\n",
       "      <th>3</th>\n",
       "      <td>0</td>\n",
       "      <td>74</td>\n",
       "      <td>32.0</td>\n",
       "      <td>1</td>\n",
       "      <td>5</td>\n",
       "      <td>0</td>\n",
       "      <td>2</td>\n",
       "      <td>0</td>\n",
       "      <td>1</td>\n",
       "      <td>1</td>\n",
       "      <td>0</td>\n",
       "    </tr>\n",
       "    <tr>\n",
       "      <th>4</th>\n",
       "      <td>0</td>\n",
       "      <td>53</td>\n",
       "      <td>39.0</td>\n",
       "      <td>1</td>\n",
       "      <td>2</td>\n",
       "      <td>0</td>\n",
       "      <td>2</td>\n",
       "      <td>1</td>\n",
       "      <td>0</td>\n",
       "      <td>1</td>\n",
       "      <td>0</td>\n",
       "    </tr>\n",
       "  </tbody>\n",
       "</table>\n",
       "</div>"
      ],
      "text/plain": [
       "   manner_of_death  armed   age  gender  race  threat_level  flee  \\\n",
       "0                0     30  53.0       1     0             0     2   \n",
       "1                0     30  47.0       1     5             0     2   \n",
       "2                1     75  23.0       1     2             1     2   \n",
       "3                0     74  32.0       1     5             0     2   \n",
       "4                0     53  39.0       1     2             0     2   \n",
       "\n",
       "   signs_of_mental_illness_False  signs_of_mental_illness_True  \\\n",
       "0                              0                             1   \n",
       "1                              1                             0   \n",
       "2                              1                             0   \n",
       "3                              0                             1   \n",
       "4                              1                             0   \n",
       "\n",
       "   body_camera_False  body_camera_True  \n",
       "0                  1                 0  \n",
       "1                  1                 0  \n",
       "2                  1                 0  \n",
       "3                  1                 0  \n",
       "4                  1                 0  "
      ]
     },
     "execution_count": 171,
     "metadata": {},
     "output_type": "execute_result"
    }
   ],
   "source": [
    "df.head()\n",
    "\n"
   ]
  },
  {
   "cell_type": "code",
   "execution_count": 172,
   "id": "922c0a22",
   "metadata": {
    "id": "922c0a22",
    "outputId": "d04282a1-e0e6-43bf-a374-a5d112737254"
   },
   "outputs": [
    {
     "name": "stdout",
     "output_type": "stream",
     "text": [
      "<class 'pandas.core.frame.DataFrame'>\n",
      "Index: 3663 entries, 0 to 4477\n",
      "Data columns (total 11 columns):\n",
      " #   Column                         Non-Null Count  Dtype  \n",
      "---  ------                         --------------  -----  \n",
      " 0   manner_of_death                3663 non-null   int8   \n",
      " 1   armed                          3663 non-null   int8   \n",
      " 2   age                            3663 non-null   float64\n",
      " 3   gender                         3663 non-null   int8   \n",
      " 4   race                           3663 non-null   int8   \n",
      " 5   threat_level                   3663 non-null   int8   \n",
      " 6   flee                           3663 non-null   int8   \n",
      " 7   signs_of_mental_illness_False  3663 non-null   int64  \n",
      " 8   signs_of_mental_illness_True   3663 non-null   int64  \n",
      " 9   body_camera_False              3663 non-null   int64  \n",
      " 10  body_camera_True               3663 non-null   int64  \n",
      "dtypes: float64(1), int64(4), int8(6)\n",
      "memory usage: 193.2 KB\n"
     ]
    }
   ],
   "source": [
    "df.info()"
   ]
  },
  {
   "cell_type": "markdown",
   "id": "c3a55426",
   "metadata": {
    "id": "c3a55426"
   },
   "source": [
    "### DBSCAN \n",
    "\n",
    "#### DBSCAN Clustering (where DBSCAN is short for Density-Based Spatial Clustering of Applications with Noise) involves finding high-density areas in the domain and expanding those areas of the feature space around them as clusters.\n",
    "\n",
    "**It is implemented via the DBSCAN class and the main configuration to tune is the “eps” and “min_samples” hyperparameters.**\n",
    "- Epsilon (Eps): This is the least distance required for two points to be termed as a neighbor.\n",
    "- Minsamples: This refers to the minimum number of points needed to construct a cluster. We consider MinPoints as a threshold for considering a cluster as a cluster."
   ]
  },
  {
   "cell_type": "markdown",
   "id": "b85f0e15",
   "metadata": {
    "id": "b85f0e15"
   },
   "source": [
    "### Question 1  ( 4 Marks )\n",
    "**Perform DBSCAN with hyperparameters eps=0.1 and min_samples=9. Fit and predict your pre processed data to the DBSCAN model. Also display and visualize the number of clusters using countplot.**"
   ]
  },
  {
   "cell_type": "code",
   "execution_count": 173,
   "id": "1a3a26cc",
   "metadata": {
    "id": "1a3a26cc"
   },
   "outputs": [],
   "source": [
    "DP =DBSCAN(eps=0.1,min_samples=9)\n",
    "DP_df = DP.fit_predict(df)\n",
    "\n",
    "#Adding the Clusters feature to the orignal dataframe.\n",
    "df[\"Clusters\"]= DP_df"
   ]
  },
  {
   "cell_type": "code",
   "execution_count": 174,
   "id": "9ee6dd28",
   "metadata": {
    "id": "9ee6dd28"
   },
   "outputs": [
    {
     "data": {
      "text/plain": [
       "24"
      ]
     },
     "execution_count": 174,
     "metadata": {},
     "output_type": "execute_result"
    }
   ],
   "source": [
    "# retrieve unique clusters\n",
    "clusters = np.unique(DP_df)\n",
    "len(clusters)"
   ]
  },
  {
   "cell_type": "code",
   "execution_count": 175,
   "id": "576e1d15",
   "metadata": {
    "id": "576e1d15"
   },
   "outputs": [
    {
     "data": {
      "image/png": "[encoded data removed]",
      "text/plain": [
       "<Figure size 2000x800 with 1 Axes>"
      ]
     },
     "metadata": {},
     "output_type": "display_data"
    }
   ],
   "source": [
    "#Plotting countplot of clusters\n",
    "plt.figure(figsize=(20,8))\n",
    "pl = sns.countplot(x='Clusters', data=df)\n",
    "pl.set_title(\"Distribution Of The Clusters\")\n",
    "plt.show()"
   ]
  },
  {
   "cell_type": "code",
   "execution_count": 176,
   "id": "3411b014",
   "metadata": {
    "id": "3411b014"
   },
   "outputs": [],
   "source": [
    "# TODO: Code to fill:\n",
    "\n",
    "# 1. '<<__A__>>' --> Build DBSCAN Clustering model from sklearn.cluster library with eps=0.1 and min_samples=9.\n",
    "# 2. '<<__B__>>' --> Fit the above build DBSCAN model.\n",
    "# 3. '<<__C__>>' --> Fit and predict on your pre processed data.\n",
    "# 4. '<<__D__>>' --> Use appropriate method from numpy library to find the unique count of clusters.\n",
    "# 5. '<<__E__>>' --> Use count plot from seaborn library to visualize the distribution of clusters."
   ]
  },
  {
   "cell_type": "markdown",
   "id": "627b7855-26fd-4151-8dbf-f759dee13fff",
   "metadata": {},
   "source": [
    "> 1. Using the DBSCAN algorithm, for the specified eps=0.1 and min_samples=9 we arrive at 24 clusters.\n"
   ]
  },
  {
   "cell_type": "markdown",
   "id": "17f4aa96",
   "metadata": {
    "id": "17f4aa96"
   },
   "source": [
    "### OPTICS\n",
    "**OPTICS clustering (where OPTICS is short for Ordering Points To Identify the Clustering Structure) is a modified version of DBSCAN described above.**"
   ]
  },
  {
   "cell_type": "markdown",
   "id": "43b38884",
   "metadata": {
    "id": "43b38884"
   },
   "source": [
    "### Question 2 ( 4 Marks )\n",
    "**Perform OPTICS with hyperparameters eps=0.1 and min_samples=9. Fit and predict your pre processed data to the OPTICS model. Also display and visualize the number of clusters using countplot.**"
   ]
  },
  {
   "cell_type": "code",
   "execution_count": 177,
   "id": "9b74a42c",
   "metadata": {
    "id": "9b74a42c"
   },
   "outputs": [],
   "source": [
    "OP = OPTICS(eps=0.1,min_samples=9)\n",
    "\n",
    "#drop the \"Clusters\" column in the dataframe df that has groups generated by DBSCAN in the previous step and fit it\n",
    "OP_df = OP.fit_predict(df.drop(\"Clusters\",axis=1)) \n",
    "\n",
    "#Adding the Clusters feature to the orignal dataframe.\n",
    "df[\"Clusters\"]= OP_df"
   ]
  },
  {
   "cell_type": "code",
   "execution_count": 178,
   "id": "242ffcc6",
   "metadata": {
    "id": "242ffcc6"
   },
   "outputs": [
    {
     "data": {
      "text/plain": [
       "46"
      ]
     },
     "execution_count": 178,
     "metadata": {},
     "output_type": "execute_result"
    }
   ],
   "source": [
    "# retrieve unique clusters\n",
    "clusters = np.unique(OP_df)\n",
    "len(clusters)"
   ]
  },
  {
   "cell_type": "code",
   "execution_count": 179,
   "id": "4676e0ab",
   "metadata": {
    "id": "4676e0ab"
   },
   "outputs": [
    {
     "data": {
      "image/png": "[encoded data removed]",
      "text/plain": [
       "<Figure size 2000x800 with 1 Axes>"
      ]
     },
     "metadata": {},
     "output_type": "display_data"
    }
   ],
   "source": [
    "#Plotting countplot of clusters\n",
    "plt.figure(figsize=(20,8))\n",
    "pl = sns.countplot(x='Clusters',data=df)\n",
    "pl.set_title(\"Distribution Of The Clusters\")\n",
    "plt.show()"
   ]
  },
  {
   "cell_type": "code",
   "execution_count": 180,
   "id": "47ec2316",
   "metadata": {
    "id": "47ec2316"
   },
   "outputs": [],
   "source": [
    "# TODO: Code to fill:\n",
    "\n",
    "# 1. '<<__A__>>' --> Build OPTICS Clustering model from sklearn.cluster library with eps=0.1 and min_samples=9.\n",
    "# 2. '<<__B__>>' --> Fit the above build OPTICS model.\n",
    "# 3. '<<__C__>>' --> Fit and predict on your pre processed data.\n",
    "# 4. '<<__D__>>' --> Use appropriate method from numpy library to find the unique count of clusters.\n",
    "# 5. '<<__E__>>' --> Use count plot from seaborn library to visualize the distribution of clusters."
   ]
  },
  {
   "cell_type": "markdown",
   "id": "468b3f77-e459-402e-a7e6-362341deb126",
   "metadata": {},
   "source": [
    "> 1. Using the OPTICS algorithm, for the specified eps=0.1 and min_samples=9 we arrive at 46 clusters."
   ]
  },
  {
   "cell_type": "markdown",
   "id": "0066a7ae",
   "metadata": {
    "id": "0066a7ae"
   },
   "source": [
    "### BIRCH\n",
    "**BIRCH Clustering (BIRCH is short for Balanced Iterative Reducing and Clustering using\n",
    "Hierarchies) involves constructing a tree structure from which cluster centroids are extracted.**"
   ]
  },
  {
   "cell_type": "markdown",
   "id": "4be66e36",
   "metadata": {
    "id": "4be66e36"
   },
   "source": [
    "### Question 3 ( 2 Mark )\n",
    "**Perform Birch on 3 clusters and fit your pre processed data to it. Visualize the clusters using count plot.**"
   ]
  },
  {
   "cell_type": "code",
   "execution_count": 181,
   "id": "8dd28716",
   "metadata": {
    "id": "8dd28716"
   },
   "outputs": [],
   "source": [
    "sc = Birch(n_clusters=3)\n",
    "\n",
    "# drop the \"Clusters\" column in the dataframe df that has groups generated by OPTICS in the previous step and fit it\n",
    "sc.fit(df.drop(\"Clusters\",axis=1))\n",
    "\n",
    "labels = sc.labels_"
   ]
  },
  {
   "cell_type": "code",
   "execution_count": 182,
   "id": "fa0dbe84",
   "metadata": {
    "id": "fa0dbe84"
   },
   "outputs": [
    {
     "data": {
      "image/png": "[encoded data removed]",
      "text/plain": [
       "<Figure size 2000x800 with 1 Axes>"
      ]
     },
     "metadata": {},
     "output_type": "display_data"
    }
   ],
   "source": [
    "#Plotting countplot of clusters\n",
    "plt.figure(figsize=(20,8))\n",
    "pl = sns.countplot(x=labels)\n",
    "pl.set_title(\"Distribution Of The Clusters\")\n",
    "plt.show()"
   ]
  },
  {
   "cell_type": "code",
   "execution_count": 183,
   "id": "f909d7eb",
   "metadata": {
    "id": "f909d7eb"
   },
   "outputs": [],
   "source": [
    "# TODO: Code to fill:\n",
    "\n",
    "# 1. '<<__A__>>' --> Build an Birch Clustering model from sklearn.cluster library with n_clusters =3\n",
    "# 2. '<<__B__>>' --> Fit the above build Birch model on pre-processed data.\n",
    "# 3. '<<__C__>>' --> Extract labels or cluster labels and save it into a new variable 'labels'.\n",
    "# 4. '<<__D__>>' --> Use count plot from seaborn library to visualize the distribution of clusters."
   ]
  },
  {
   "cell_type": "markdown",
   "id": "b5d54172-2b5a-4f03-a441-f84f46ffd6c7",
   "metadata": {},
   "source": [
    "> 1. Using BIRCH we get 3 clusters as we mentioned n_clusters=3"
   ]
  },
  {
   "cell_type": "code",
   "execution_count": null,
   "id": "c736393c-691a-4506-8dca-d669ebb4f931",
   "metadata": {},
   "outputs": [],
   "source": []
  }
 ],
 "metadata": {
  "colab": {
   "provenance": []
  },
  "kernelspec": {
   "display_name": "Python 3 (ipykernel)",
   "language": "python",
   "name": "python3"
  },
  "language_info": {
   "codemirror_mode": {
    "name": "ipython",
    "version": 3
   },
   "file_extension": ".py",
   "mimetype": "text/x-python",
   "name": "python",
   "nbconvert_exporter": "python",
   "pygments_lexer": "ipython3",
   "version": "3.11.4"
  }
 },
 "nbformat": 4,
 "nbformat_minor": 5
}
