{
 "cells": [
  {
   "cell_type": "markdown",
   "id": "c99bc0f4",
   "metadata": {
    "id": "c99bc0f4"
   },
   "source": [
    "# Week:3 Data pre-processing "
   ]
  },
  {
   "cell_type": "markdown",
   "id": "17614dd2",
   "metadata": {
    "id": "17614dd2"
   },
   "source": [
    "### Objective:\n",
    "The objective of this assignment is to perform exploratory data analysis, data pre-processing, data cleaning, scaling, transformation, check correlation between variables and perform sampling.\n",
    "\n",
    "We use the Fatal Police Shooting data to answer the questions given in this notebook."
   ]
  },
  {
   "cell_type": "markdown",
   "id": "94579906",
   "metadata": {
    "id": "94579906"
   },
   "source": [
    "### Fatal Police Shooting Data"
   ]
  },
  {
   "cell_type": "markdown",
   "id": "4fbb8326",
   "metadata": {
    "id": "4fbb8326"
   },
   "source": [
    "**About dataset**\\\n",
    "The dataset consists of following columns\n",
    "1. **id**                         : unqiue identifier of each victim\n",
    "2. **name**                       : name of a victim\n",
    "3. **date**                       : date on fatal shooting \n",
    "4. **manner_of_death**            : manner of death classification\n",
    "    * Shot\n",
    "    * Shot and Tasered\n",
    "5. **armed**                      : indicates that the victim was armed with some sort of implement that a police officer believed could inflict harm\n",
    "    * undetermined: it is not known whether or not the victim had a weapon\n",
    "    * unknown: the victim was armed, but it is not known what the object was\n",
    "    * unarmed: the victim was not armed\n",
    "6. **age**                        : age of victim\n",
    "7. **gender**                     : the gender of the victim. The Post identifies victims by the gender they identify with if reports indicate that it differs from their biological sex.\n",
    "    * M: Male\n",
    "    * F: Female\n",
    "    * None: Unknown\n",
    "8. **race**                       : race of victim\n",
    "    * W: White, non-Hispanic\n",
    "    * B: Black, non-Hispanic\n",
    "    * A: Asian\n",
    "    * N: Native American\n",
    "    * H: Hispanic\n",
    "    * O: Other\n",
    "    * None: unknown\n",
    "9. **city**                       : the municipality where the fatal shooting took place. Note that in some cases this field may contain a county name if a more specific municipality is unavailable or unknown.\n",
    "10. **state**                     : two-letter postal code abbreviation\n",
    "11. **signs_of_mental_illness**   : News reports have indicated the victim had a history of mental health issues, expressed suicidal intentions or was experiencing mental distress at the time of the shooting.\n",
    "12. **threat_level**              : These would include incidents where officers or others were shot at, threatened with a gun, attacked with other weapons or physical force, etc. The attack category is meant to flag the highest level of threat. The other and undetermined categories represent all remaining cases. Other includes many incidents where officers or others faced significant threats. \n",
    "13. **flee**                      : News reports have indicated the victim was moving away from officers\n",
    "    * Foot\n",
    "    * Car\n",
    "    * Not fleeing\n",
    "14. **body_camera**               : News reports have indicated an officer was wearing a body camera and it may have recorded some portion of the incident."
   ]
  },
  {
   "cell_type": "markdown",
   "id": "e14398de",
   "metadata": {
    "id": "e14398de"
   },
   "source": [
    "## Let's Begin"
   ]
  },
  {
   "cell_type": "code",
   "execution_count": 2,
   "id": "bbffb6a9",
   "metadata": {
    "id": "bbffb6a9"
   },
   "outputs": [],
   "source": [
    "# Install the libraries\n",
    "import pandas as pd \n",
    "import numpy as np\n",
    "import matplotlib.pyplot as plt\n",
    "import seaborn as sns\n",
    "%matplotlib inline"
   ]
  },
  {
   "cell_type": "code",
   "execution_count": 3,
   "id": "336383ca",
   "metadata": {
    "colab": {
     "base_uri": "https://localhost:8080/",
     "height": 357
    },
    "id": "336383ca",
    "outputId": "4fe4c05a-76d3-4689-d022-f89cf214cdb3"
   },
   "outputs": [
    {
     "data": {
      "text/html": [
       "<div>\n",
       "<style scoped>\n",
       "    .dataframe tbody tr th:only-of-type {\n",
       "        vertical-align: middle;\n",
       "    }\n",
       "\n",
       "    .dataframe tbody tr th {\n",
       "        vertical-align: top;\n",
       "    }\n",
       "\n",
       "    .dataframe thead th {\n",
       "        text-align: right;\n",
       "    }\n",
       "</style>\n",
       "<table border=\"1\" class=\"dataframe\">\n",
       "  <thead>\n",
       "    <tr style=\"text-align: right;\">\n",
       "      <th></th>\n",
       "      <th>id</th>\n",
       "      <th>name</th>\n",
       "      <th>date</th>\n",
       "      <th>manner_of_death</th>\n",
       "      <th>armed</th>\n",
       "      <th>age</th>\n",
       "      <th>gender</th>\n",
       "      <th>race</th>\n",
       "      <th>city</th>\n",
       "      <th>state</th>\n",
       "      <th>signs_of_mental_illness</th>\n",
       "      <th>threat_level</th>\n",
       "      <th>flee</th>\n",
       "      <th>body_camera</th>\n",
       "      <th>age_categories</th>\n",
       "      <th>year</th>\n",
       "    </tr>\n",
       "  </thead>\n",
       "  <tbody>\n",
       "    <tr>\n",
       "      <th>0</th>\n",
       "      <td>3</td>\n",
       "      <td>Tim Elliot</td>\n",
       "      <td>2015-01-02</td>\n",
       "      <td>shot</td>\n",
       "      <td>gun</td>\n",
       "      <td>53.0</td>\n",
       "      <td>M</td>\n",
       "      <td>A</td>\n",
       "      <td>Shelton</td>\n",
       "      <td>WA</td>\n",
       "      <td>True</td>\n",
       "      <td>attack</td>\n",
       "      <td>Not fleeing</td>\n",
       "      <td>False</td>\n",
       "      <td>Senior citizens</td>\n",
       "      <td>2015</td>\n",
       "    </tr>\n",
       "    <tr>\n",
       "      <th>1</th>\n",
       "      <td>4</td>\n",
       "      <td>Lewis Lee Lembke</td>\n",
       "      <td>2015-01-02</td>\n",
       "      <td>shot</td>\n",
       "      <td>gun</td>\n",
       "      <td>47.0</td>\n",
       "      <td>M</td>\n",
       "      <td>W</td>\n",
       "      <td>Aloha</td>\n",
       "      <td>OR</td>\n",
       "      <td>False</td>\n",
       "      <td>attack</td>\n",
       "      <td>Not fleeing</td>\n",
       "      <td>False</td>\n",
       "      <td>Adult</td>\n",
       "      <td>2015</td>\n",
       "    </tr>\n",
       "    <tr>\n",
       "      <th>2</th>\n",
       "      <td>5</td>\n",
       "      <td>John Paul Quintero</td>\n",
       "      <td>2015-01-03</td>\n",
       "      <td>shot and Tasered</td>\n",
       "      <td>unarmed</td>\n",
       "      <td>23.0</td>\n",
       "      <td>M</td>\n",
       "      <td>H</td>\n",
       "      <td>Wichita</td>\n",
       "      <td>KS</td>\n",
       "      <td>False</td>\n",
       "      <td>other</td>\n",
       "      <td>Not fleeing</td>\n",
       "      <td>False</td>\n",
       "      <td>Youth</td>\n",
       "      <td>2015</td>\n",
       "    </tr>\n",
       "    <tr>\n",
       "      <th>3</th>\n",
       "      <td>8</td>\n",
       "      <td>Matthew Hoffman</td>\n",
       "      <td>2015-01-04</td>\n",
       "      <td>shot</td>\n",
       "      <td>toy weapon</td>\n",
       "      <td>32.0</td>\n",
       "      <td>M</td>\n",
       "      <td>W</td>\n",
       "      <td>San Francisco</td>\n",
       "      <td>CA</td>\n",
       "      <td>True</td>\n",
       "      <td>attack</td>\n",
       "      <td>Not fleeing</td>\n",
       "      <td>False</td>\n",
       "      <td>Youth</td>\n",
       "      <td>2015</td>\n",
       "    </tr>\n",
       "    <tr>\n",
       "      <th>4</th>\n",
       "      <td>9</td>\n",
       "      <td>Michael Rodriguez</td>\n",
       "      <td>2015-01-04</td>\n",
       "      <td>shot</td>\n",
       "      <td>nail gun</td>\n",
       "      <td>39.0</td>\n",
       "      <td>M</td>\n",
       "      <td>H</td>\n",
       "      <td>Evans</td>\n",
       "      <td>CO</td>\n",
       "      <td>False</td>\n",
       "      <td>attack</td>\n",
       "      <td>Not fleeing</td>\n",
       "      <td>False</td>\n",
       "      <td>Adult</td>\n",
       "      <td>2015</td>\n",
       "    </tr>\n",
       "  </tbody>\n",
       "</table>\n",
       "</div>"
      ],
      "text/plain": [
       "   id                name        date   manner_of_death       armed   age  \\\n",
       "0   3          Tim Elliot  2015-01-02              shot         gun  53.0   \n",
       "1   4    Lewis Lee Lembke  2015-01-02              shot         gun  47.0   \n",
       "2   5  John Paul Quintero  2015-01-03  shot and Tasered     unarmed  23.0   \n",
       "3   8     Matthew Hoffman  2015-01-04              shot  toy weapon  32.0   \n",
       "4   9   Michael Rodriguez  2015-01-04              shot    nail gun  39.0   \n",
       "\n",
       "  gender race           city state  signs_of_mental_illness threat_level  \\\n",
       "0      M    A        Shelton    WA                     True       attack   \n",
       "1      M    W          Aloha    OR                    False       attack   \n",
       "2      M    H        Wichita    KS                    False        other   \n",
       "3      M    W  San Francisco    CA                     True       attack   \n",
       "4      M    H          Evans    CO                    False       attack   \n",
       "\n",
       "          flee  body_camera   age_categories  year  \n",
       "0  Not fleeing        False  Senior citizens  2015  \n",
       "1  Not fleeing        False            Adult  2015  \n",
       "2  Not fleeing        False            Youth  2015  \n",
       "3  Not fleeing        False            Youth  2015  \n",
       "4  Not fleeing        False            Adult  2015  "
      ]
     },
     "execution_count": 3,
     "metadata": {},
     "output_type": "execute_result"
    }
   ],
   "source": [
    "# Load the dataframe \n",
    "df = pd.read_csv('./week_2_assignment_output.csv')\n",
    "df.head()\n",
    "\n",
    "# TODO: Code to fill: \n",
    "# 1. '<<__A__>>' --> Path of the csv file"
   ]
  },
  {
   "cell_type": "code",
   "execution_count": 4,
   "id": "f7c7f28b",
   "metadata": {
    "id": "f7c7f28b"
   },
   "outputs": [
    {
     "data": {
      "text/plain": [
       "(4478, 16)"
      ]
     },
     "execution_count": 4,
     "metadata": {},
     "output_type": "execute_result"
    }
   ],
   "source": [
    "# Check the shape of the dataset\n",
    "df.shape"
   ]
  },
  {
   "cell_type": "markdown",
   "id": "8340d0e8",
   "metadata": {
    "id": "8340d0e8"
   },
   "source": [
    "### Question: 1 ( 1 Mark )\n",
    "\n",
    "Check and Handle the missing values (NaN) present in each column with the respective methods "
   ]
  },
  {
   "cell_type": "code",
   "execution_count": 6,
   "id": "4c6deb73",
   "metadata": {
    "id": "4c6deb73"
   },
   "outputs": [
    {
     "data": {
      "text/plain": [
       "id                           0\n",
       "name                         0\n",
       "date                         0\n",
       "manner_of_death              0\n",
       "armed                      248\n",
       "age                        169\n",
       "gender                       5\n",
       "race                       373\n",
       "city                         0\n",
       "state                        0\n",
       "signs_of_mental_illness      0\n",
       "threat_level                 0\n",
       "flee                       179\n",
       "body_camera                  0\n",
       "age_categories               0\n",
       "year                         0\n",
       "dtype: int64"
      ]
     },
     "execution_count": 6,
     "metadata": {},
     "output_type": "execute_result"
    }
   ],
   "source": [
    "# Check the dataframe for missing values in the column before handling\n",
    "df.isnull().sum()\n",
    "\n",
    "# TODO: Code to fill: \n",
    "\n",
    "# 1. '<<__A__>>' --> Use correct method\n",
    "# 2. '<<__B__>>' --> Use correct method\n"
   ]
  },
  {
   "cell_type": "code",
   "execution_count": 11,
   "id": "xQtkuyrr_W9n",
   "metadata": {
    "id": "xQtkuyrr_W9n"
   },
   "outputs": [
    {
     "name": "stderr",
     "output_type": "stream",
     "text": [
      "/var/folders/r1/qkgmsj6s3v5714p5mm648mc00000gn/T/ipykernel_11492/4026652273.py:4: FutureWarning: A value is trying to be set on a copy of a DataFrame or Series through chained assignment using an inplace method.\n",
      "The behavior will change in pandas 3.0. This inplace method will never work because the intermediate object on which we are setting values always behaves as a copy.\n",
      "\n",
      "For example, when doing 'df[col].method(value, inplace=True)', try using 'df.method({col: value}, inplace=True)' or df[col] = df[col].method(value) instead, to perform the operation inplace on the original object.\n",
      "\n",
      "\n",
      "  df['race'].fillna(df['race'].mode()[0],inplace=True)\n",
      "/var/folders/r1/qkgmsj6s3v5714p5mm648mc00000gn/T/ipykernel_11492/4026652273.py:5: FutureWarning: A value is trying to be set on a copy of a DataFrame or Series through chained assignment using an inplace method.\n",
      "The behavior will change in pandas 3.0. This inplace method will never work because the intermediate object on which we are setting values always behaves as a copy.\n",
      "\n",
      "For example, when doing 'df[col].method(value, inplace=True)', try using 'df.method({col: value}, inplace=True)' or df[col] = df[col].method(value) instead, to perform the operation inplace on the original object.\n",
      "\n",
      "\n",
      "  df['gender'].fillna(df['gender'].mode()[0],inplace=True)\n",
      "/var/folders/r1/qkgmsj6s3v5714p5mm648mc00000gn/T/ipykernel_11492/4026652273.py:6: FutureWarning: A value is trying to be set on a copy of a DataFrame or Series through chained assignment using an inplace method.\n",
      "The behavior will change in pandas 3.0. This inplace method will never work because the intermediate object on which we are setting values always behaves as a copy.\n",
      "\n",
      "For example, when doing 'df[col].method(value, inplace=True)', try using 'df.method({col: value}, inplace=True)' or df[col] = df[col].method(value) instead, to perform the operation inplace on the original object.\n",
      "\n",
      "\n",
      "  df['armed'].fillna(df['armed'].mode()[0],inplace=True)\n",
      "/var/folders/r1/qkgmsj6s3v5714p5mm648mc00000gn/T/ipykernel_11492/4026652273.py:7: FutureWarning: A value is trying to be set on a copy of a DataFrame or Series through chained assignment using an inplace method.\n",
      "The behavior will change in pandas 3.0. This inplace method will never work because the intermediate object on which we are setting values always behaves as a copy.\n",
      "\n",
      "For example, when doing 'df[col].method(value, inplace=True)', try using 'df.method({col: value}, inplace=True)' or df[col] = df[col].method(value) instead, to perform the operation inplace on the original object.\n",
      "\n",
      "\n",
      "  df['flee'].fillna(df['flee'].mode()[0],inplace=True)\n",
      "/var/folders/r1/qkgmsj6s3v5714p5mm648mc00000gn/T/ipykernel_11492/4026652273.py:11: FutureWarning: A value is trying to be set on a copy of a DataFrame or Series through chained assignment using an inplace method.\n",
      "The behavior will change in pandas 3.0. This inplace method will never work because the intermediate object on which we are setting values always behaves as a copy.\n",
      "\n",
      "For example, when doing 'df[col].method(value, inplace=True)', try using 'df.method({col: value}, inplace=True)' or df[col] = df[col].method(value) instead, to perform the operation inplace on the original object.\n",
      "\n",
      "\n",
      "  df['age'].fillna(df['age'].median(),inplace=True)\n"
     ]
    }
   ],
   "source": [
    "# Handle the missing values \n",
    "#df['<<__A__>>'].fillna(df['<<__B__>>'].'<<__C__>>'()[0],inplace=True)\n",
    "\n",
    "df['race'].fillna(df['race'].mode()[0],inplace=True)\n",
    "df['gender'].fillna(df['gender'].mode()[0],inplace=True)\n",
    "df['armed'].fillna(df['armed'].mode()[0],inplace=True)\n",
    "df['flee'].fillna(df['flee'].mode()[0],inplace=True)\n",
    "\n",
    "# write your code here to handle missing values for other columns\n",
    "\n",
    "df['age'].fillna(df['age'].median(),inplace=True)\n",
    "\n",
    "# TODO: Code to fill: \n",
    "\n",
    "# 1. '<<__A__>>' --> Appropriate filling method\n",
    "# 2. '<<__B__>>' --> column_name\n",
    "# 3. '<<__C__>>' --> column_name"
   ]
  },
  {
   "cell_type": "code",
   "execution_count": 12,
   "id": "VWjDG6QOP4pc",
   "metadata": {
    "id": "VWjDG6QOP4pc"
   },
   "outputs": [
    {
     "data": {
      "text/plain": [
       "id                         0\n",
       "name                       0\n",
       "date                       0\n",
       "manner_of_death            0\n",
       "armed                      0\n",
       "age                        0\n",
       "gender                     0\n",
       "race                       0\n",
       "city                       0\n",
       "state                      0\n",
       "signs_of_mental_illness    0\n",
       "threat_level               0\n",
       "flee                       0\n",
       "body_camera                0\n",
       "age_categories             0\n",
       "year                       0\n",
       "dtype: int64"
      ]
     },
     "execution_count": 12,
     "metadata": {},
     "output_type": "execute_result"
    }
   ],
   "source": [
    "# Check dataframe after handling missing values \n",
    "df.isnull().sum()\n",
    "\n",
    "# TODO: Code to fill: \n",
    "\n",
    "# 1. '<<__A__>>' --> Use correct method\n",
    "# 2. '<<__B__>>' --> Use correct method"
   ]
  },
  {
   "cell_type": "markdown",
   "id": "a4efbe66",
   "metadata": {
    "id": "a4efbe66"
   },
   "source": [
    "### Question: 2 (1 Mark )\n",
    "Handle the outliers present in the age column "
   ]
  },
  {
   "cell_type": "code",
   "execution_count": 13,
   "id": "9Nrr8Ki4UBzy",
   "metadata": {
    "id": "9Nrr8Ki4UBzy"
   },
   "outputs": [
    {
     "data": {
      "text/plain": [
       "<Axes: ylabel='age'>"
      ]
     },
     "execution_count": 13,
     "metadata": {},
     "output_type": "execute_result"
    },
    {
     "data": {
      "image/png": "[encoded data removed]",
      "text/plain": [
       "<Figure size 640x480 with 1 Axes>"
      ]
     },
     "metadata": {},
     "output_type": "display_data"
    }
   ],
   "source": [
    "# Display the box plot before handling outliers in the age column\n",
    "sns.boxplot(df['age'])\n",
    "\n",
    "# TODO: Code to fill: \n",
    "\n",
    "# 1. '<<__A__>>' --> Display the box plot before handling outliers in the age column"
   ]
  },
  {
   "cell_type": "code",
   "execution_count": 14,
   "id": "a6d96152",
   "metadata": {
    "id": "a6d96152"
   },
   "outputs": [],
   "source": [
    "# Quantile 1 of age column (25 percentage)\n",
    "Q1 = df['age'].quantile(0.25)\n",
    "# Quantile 3 of age column (75 percentage)\n",
    "Q3 = df['age'].quantile(0.75)"
   ]
  },
  {
   "cell_type": "code",
   "execution_count": 15,
   "id": "c25e9091",
   "metadata": {
    "id": "c25e9091"
   },
   "outputs": [
    {
     "data": {
      "text/plain": [
       "18.0"
      ]
     },
     "execution_count": 15,
     "metadata": {},
     "output_type": "execute_result"
    }
   ],
   "source": [
    "# Inter Quartile Range\n",
    "IQR = Q3 - Q1\n",
    "IQR"
   ]
  },
  {
   "cell_type": "code",
   "execution_count": 17,
   "id": "3cd435d2",
   "metadata": {
    "id": "3cd435d2"
   },
   "outputs": [
    {
     "name": "stdout",
     "output_type": "stream",
     "text": [
      "upper_case: 72.0\n",
      "lower_case: 0.0\n"
     ]
    }
   ],
   "source": [
    "# Outliers present in upper case\n",
    "upper_case = Q3 + (1.5*IQR)\n",
    "print('upper_case:',upper_case)\n",
    "# Outliers present in lower case\n",
    "lower_case = Q1 - (1.5*IQR)\n",
    "print('lower_case:',lower_case)"
   ]
  },
  {
   "cell_type": "code",
   "execution_count": 19,
   "id": "H7dxmFtpWGXk",
   "metadata": {
    "id": "H7dxmFtpWGXk"
   },
   "outputs": [
    {
     "name": "stdout",
     "output_type": "stream",
     "text": [
      "[75.0, 74.0, 77.0, 83.0, 76.0, 86.0, 76.0, 77.0, 76.0, 76.0, 80.0, 82.0, 86.0, 76.0, 83.0, 73.0, 91.0, 73.0, 79.0, 74.0, 75.0, 82.0, 76.0, 78.0, 84.0, 84.0, 81.0, 89.0, 73.0, 77.0, 76.0, 84.0, 81.0, 80.0, 77.0, 76.0, 74.0, 76.0, 73.0]\n"
     ]
    }
   ],
   "source": [
    "outliers = []\n",
    "for i in df['age']: \n",
    "  if (i<lower_case or i>upper_case):  # if any data point in the age column less than lower case or any data point greater than upper case will be an outlier\n",
    "    outliers.append(i)\n",
    "print(outliers)"
   ]
  },
  {
   "cell_type": "code",
   "execution_count": null,
   "id": "6vaGoy85XhQi",
   "metadata": {
    "id": "6vaGoy85XhQi"
   },
   "outputs": [],
   "source": [
    "# Remove the outliers in age column\n",
    "df['age'] = '<<__B__>>'\n",
    "\n",
    "# TODO: Code to fill: \n",
    "\n",
    "# 1. '<<__B__>>' --> write the your command to remove outliers outside upper case and lower case"
   ]
  },
  {
   "cell_type": "code",
   "execution_count": null,
   "id": "o4dxsnxYbinT",
   "metadata": {
    "id": "o4dxsnxYbinT"
   },
   "outputs": [],
   "source": [
    "# Display the box plot after handling outliers in the age column\n",
    "'<<__C__>>'\n",
    "\n",
    "# TODO: Code to fill: \n",
    "\n",
    "# 1  '<<__C__>>' --> Display the box plot after handling outliers in the age column"
   ]
  },
  {
   "cell_type": "markdown",
   "id": "195e585a",
   "metadata": {
    "id": "195e585a"
   },
   "source": [
    "### Question: 3 ( 1 Mark )\n",
    "Plot a bar graph which tells most repeated weapons used to attack the people  "
   ]
  },
  {
   "cell_type": "code",
   "execution_count": null,
   "id": "nyI9VIXrb197",
   "metadata": {
    "id": "nyI9VIXrb197"
   },
   "outputs": [],
   "source": [
    "# Get the value count of armed column\n",
    "armed = df.armed.value_counts()\n",
    "# set the plot size\n",
    "'<<__A__>>'\n",
    "# Create a bar plot using above variable by filtering upto 7 rows \n",
    "sns.barplot(x=armed[:7].index,y=armed[:7].values)\n",
    "plt.ylabel('<<__B__>>')\n",
    "plt.xlabel('<<__C__>>')\n",
    "plt.title('<<__D__>>')\n",
    "\n",
    "# TODO: Code to fill: \n",
    "\n",
    "# 1. '<<__A__>>' --> Set the plot size\n",
    "# 2. '<<__B__>>' --> set a name for y label\n",
    "# 3. '<<__C__>>' --> set a name for x label\n",
    "# 4. '<<__D__>>' --> set a title for the graph with a  fontsize 15 in the colour of blue"
   ]
  },
  {
   "cell_type": "markdown",
   "id": "be08780a",
   "metadata": {
    "id": "be08780a"
   },
   "source": [
    "### Question: 4 ( 2 Marks )\n",
    "Generate a bar plot to identify days in which the count of attacks are reported most "
   ]
  },
  {
   "cell_type": "code",
   "execution_count": null,
   "id": "_wg5L08ocZff",
   "metadata": {
    "id": "_wg5L08ocZff"
   },
   "outputs": [],
   "source": [
    "# Create a new columns day, month, year using date column with the help of pandas to_datetime method\n",
    "df['day'] = pd.to_datetime(df['date']).dt.day\n",
    "df['month'] = pd.to_datetime(df['date']).dt.month\n",
    "df['year'] = pd.to_datetime(df['date']).dt.year"
   ]
  },
  {
   "cell_type": "code",
   "execution_count": null,
   "id": "3enV_aY1eNHT",
   "metadata": {
    "id": "3enV_aY1eNHT"
   },
   "outputs": [],
   "source": [
    "#Plot a bar graph in which days the count of attcks are more\n",
    "df['<<__A__>>'].'<<__B__>>'().plot.'<<__C__>>'('<<__D__>>')\n",
    "\n",
    "# TODO: Code to fill: \n",
    "\n",
    "# 1. '<<__A__>>' --> Fill the column name for which you want to plot a bar graph\n",
    "# 2. '<<__B__>>' --> write your method here to count the values\n",
    "# 3. '<<__C__>>' --> fill the type of plot\n",
    "# 4. '<<__D__>>' --> Set plot size (12,6)"
   ]
  },
  {
   "cell_type": "markdown",
   "id": "d9347ed8",
   "metadata": {
    "id": "d9347ed8"
   },
   "source": [
    "### Question: 5 ( 2 Marks )\n",
    "Display the Top 10 states where the high number of cases recorded "
   ]
  },
  {
   "cell_type": "code",
   "execution_count": null,
   "id": "3baae75c",
   "metadata": {
    "id": "3baae75c"
   },
   "outputs": [],
   "source": [
    "# Write your code here\n",
    "state = df.'<<__A__>>'.'<<__B__>>'()\n",
    "\n",
    "# Display the Top 10 states using bar chart\n",
    "plt.figure(figsize=(10,7))\n",
    "sns.barplot(x='<<__C__>>', y='<<__D__>>')\n",
    "plt.ylabel('Number of cases reported')\n",
    "plt.xlabel('States')\n",
    "plt.title('Top 10 states',color = 'blue',fontsize=15)\n",
    "\n",
    "\n",
    "# TODO: Code to fill: \n",
    "\n",
    "# 1. '<<__A__>>' --> Fill the column name \n",
    "# 2. '<<__B__>>' --> write your method here to count the values\n",
    "# 3. '<<__C__>>' --> Provide x axis values from state dataframe created in previous step\n",
    "# 4. '<<__D__>>' --> Provide y axis values from state dataframe created in previous step\n"
   ]
  },
  {
   "cell_type": "markdown",
   "id": "kubiq3XvoaUE",
   "metadata": {
    "id": "kubiq3XvoaUE"
   },
   "source": [
    "### Question: 6 ( 1 Mark )\n",
    "Drop the features that have more unique string values and not relevant to the model."
   ]
  },
  {
   "cell_type": "code",
   "execution_count": null,
   "id": "YiwyptpOoorz",
   "metadata": {
    "id": "YiwyptpOoorz"
   },
   "outputs": [],
   "source": [
    "# Drop the features that have more unique string values and not relevant to the model.\n",
    "df.'<<__A__>>'(columns=[<'<<__B__>>>'],axis='<<__C__>>>',inplace=True)\n",
    "\n"
   ]
  },
  {
   "cell_type": "code",
   "execution_count": null,
   "id": "t95ykFkxoyQZ",
   "metadata": {
    "id": "t95ykFkxoyQZ"
   },
   "outputs": [],
   "source": [
    "#Display the top 5 rows of dataset after droping the unnecessary features\n",
    "df.'<<__D__>>'(5)\n",
    "\n",
    "# TODO: Code to fill: \n",
    "\n",
    "# 1. '<<__A__>>' --> Fill appropriate method for removing features\n",
    "# 2. '<<__B__>>' --> column names \n",
    "# 3. '<<__C__>>' --> Give the axis for removing features\n",
    "# 3. '<<__D__>>' --> Use the correct method to get top 5 rows of dataset after droping the unnessacary features"
   ]
  },
  {
   "cell_type": "markdown",
   "id": "omvTUjRjpXRj",
   "metadata": {
    "id": "omvTUjRjpXRj"
   },
   "source": [
    "### Question: 7 ( 2 Marks )\n",
    "Create a line plot that shows the number of attacks every year according to race"
   ]
  },
  {
   "cell_type": "code",
   "execution_count": null,
   "id": "xV72XEJkpT0-",
   "metadata": {
    "id": "xV72XEJkpT0-"
   },
   "outputs": [],
   "source": [
    "# Write your code here\n",
    "pd.crosstab(df['<<__A__>>'],df['<<__B__>>']).plot.line(figsize=(12,6))\n",
    "\n",
    "\n",
    "# TODO: Code to fill: \n",
    "\n",
    "# 1. '<<__A__>>' --> Fill the exact column name\n",
    "# 2. '<<__B__>>' --> Fill the exact column name"
   ]
  },
  {
   "cell_type": "markdown",
   "id": "9f6279cb",
   "metadata": {
    "id": "9f6279cb"
   },
   "source": [
    "## Thank you!"
   ]
  }
 ],
 "metadata": {
  "colab": {
   "provenance": []
  },
  "kernelspec": {
   "display_name": "Python 3 (ipykernel)",
   "language": "python",
   "name": "python3"
  },
  "language_info": {
   "codemirror_mode": {
    "name": "ipython",
    "version": 3
   },
   "file_extension": ".py",
   "mimetype": "text/x-python",
   "name": "python",
   "nbconvert_exporter": "python",
   "pygments_lexer": "ipython3",
   "version": "3.11.4"
  }
 },
 "nbformat": 4,
 "nbformat_minor": 5
}
