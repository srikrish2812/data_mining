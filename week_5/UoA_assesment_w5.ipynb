{
 "cells": [
  {
   "cell_type": "markdown",
   "id": "a7a57a88",
   "metadata": {
    "id": "a7a57a88"
   },
   "source": [
    "### Assignment 5: K Means and K Medoids Clustering"
   ]
  },
  {
   "cell_type": "markdown",
   "id": "18dd2af6",
   "metadata": {
    "id": "18dd2af6"
   },
   "source": [
    "### Objective:\n",
    "To build Unsupervised models like K-Means, K-Medoids(PAM) clustering to discover hidden and interesting patterns inside the data. Comparing the results of all, Visualizing and interpreting the formed clusters."
   ]
  },
  {
   "cell_type": "markdown",
   "id": "cf68d13e",
   "metadata": {
    "id": "cf68d13e"
   },
   "source": [
    "### Fatal Police Shooting Data\n",
    "\n",
    "**About dataset**\\\n",
    "The dataset consists of following columns\n",
    "1. **id**                         : unqiue identifier of each victim\n",
    "2. **name**                       : name of a victim\n",
    "3. **date**                       : date on fatal shooting \n",
    "4. **manner_of_death**            : manner of death classification\n",
    "    * Shot\n",
    "    * Shot and Tasered\n",
    "5. **armed**                      : indicates that the victim was armed with some sort of implement that a police officer believed could inflict harm\n",
    "    * undetermined: it is not known whether or not the victim had a weapon\n",
    "    * unknown: the victim was armed, but it is not known what the object was\n",
    "    * unarmed: the victim was not armed\n",
    "6. **age**                        : age of victim\n",
    "7. **gender**                     : the gender of the victim. The Post identifies victims by the gender they identify with if reports indicate that it differs from their biological sex.\n",
    "    * M: Male\n",
    "    * F: Female\n",
    "    * None: Unknown\n",
    "8. **race**                       : race of victim\n",
    "    * W: White, non-Hispanic\n",
    "    * B: Black, non-Hispanic\n",
    "    * A: Asian\n",
    "    * N: Native American\n",
    "    * H: Hispanic\n",
    "    * O: Other\n",
    "    * None: unknown\n",
    "9. **city**                       : the municipality where the fatal shooting took place. Note that in some cases this field may contain a county name if a more specific municipality is unavailable or unknown.\n",
    "10. **state**                     : two-letter postal code abbreviation\n",
    "11. **signs_of_mental_illness**   : News reports have indicated the victim had a history of mental health issues, expressed suicidal intentions or was experiencing mental distress at the time of the shooting.\n",
    "12. **threat_level**              : These would include incidents where officers or others were shot at, threatened with a gun, attacked with other weapons or physical force, etc. The attack category is meant to flag the highest level of threat. The other and undetermined categories represent all remaining cases. Other includes many incidents where officers or others faced significant threats. \n",
    "13. **flee**                      : News reports have indicated the victim was moving away from officers\n",
    "    * Foot\n",
    "    * Car\n",
    "    * Not fleeing\n",
    "14. **body_camera**               : News reports have indicated an officer was wearing a body camera and it may have recorded some portion of the incident."
   ]
  },
  {
   "cell_type": "markdown",
   "id": "31d98260",
   "metadata": {
    "id": "31d98260"
   },
   "source": [
    "### Import all neccessary libraries"
   ]
  },
  {
   "cell_type": "code",
   "execution_count": null,
   "id": "99f03c38",
   "metadata": {
    "id": "99f03c38"
   },
   "outputs": [],
   "source": [
    "# Libraries to help with reading and manipulating data\n",
    "import numpy as np\n",
    "import pandas as pd\n",
    "\n",
    "# Libraries to help with data visualization\n",
    "import matplotlib.pyplot as plt\n",
    "%matplotlib inline\n",
    "import seaborn as sns\n",
    "\n",
    "# To scale the data using z-score\n",
    "from sklearn.preprocessing import StandardScaler\n",
    "\n",
    "# to perform k-means clustering and compute silhouette scores\n",
    "from sklearn.cluster import KMeans\n",
    "from sklearn.metrics import silhouette_score\n",
    "\n",
    "import copy\n",
    "\n",
    "import warnings\n",
    "warnings.filterwarnings('ignore')"
   ]
  },
  {
   "cell_type": "code",
   "execution_count": null,
   "id": "8900d22f",
   "metadata": {
    "id": "8900d22f",
    "outputId": "a54ccf2f-3da7-45ed-9520-5e3f168078ee"
   },
   "outputs": [
    {
     "data": {
      "text/html": [
       "<div>\n",
       "<style scoped>\n",
       "    .dataframe tbody tr th:only-of-type {\n",
       "        vertical-align: middle;\n",
       "    }\n",
       "\n",
       "    .dataframe tbody tr th {\n",
       "        vertical-align: top;\n",
       "    }\n",
       "\n",
       "    .dataframe thead th {\n",
       "        text-align: right;\n",
       "    }\n",
       "</style>\n",
       "<table border=\"1\" class=\"dataframe\">\n",
       "  <thead>\n",
       "    <tr style=\"text-align: right;\">\n",
       "      <th></th>\n",
       "      <th>id</th>\n",
       "      <th>name</th>\n",
       "      <th>date</th>\n",
       "      <th>manner_of_death</th>\n",
       "      <th>armed</th>\n",
       "      <th>age</th>\n",
       "      <th>gender</th>\n",
       "      <th>race</th>\n",
       "      <th>city</th>\n",
       "      <th>state</th>\n",
       "      <th>signs_of_mental_illness</th>\n",
       "      <th>threat_level</th>\n",
       "      <th>flee</th>\n",
       "      <th>body_camera</th>\n",
       "    </tr>\n",
       "  </thead>\n",
       "  <tbody>\n",
       "    <tr>\n",
       "      <th>0</th>\n",
       "      <td>3</td>\n",
       "      <td>Tim Elliot</td>\n",
       "      <td>2015-01-02</td>\n",
       "      <td>shot</td>\n",
       "      <td>gun</td>\n",
       "      <td>53.0</td>\n",
       "      <td>M</td>\n",
       "      <td>A</td>\n",
       "      <td>Shelton</td>\n",
       "      <td>WA</td>\n",
       "      <td>True</td>\n",
       "      <td>attack</td>\n",
       "      <td>Not fleeing</td>\n",
       "      <td>False</td>\n",
       "    </tr>\n",
       "    <tr>\n",
       "      <th>1</th>\n",
       "      <td>4</td>\n",
       "      <td>Lewis Lee Lembke</td>\n",
       "      <td>2015-01-02</td>\n",
       "      <td>shot</td>\n",
       "      <td>gun</td>\n",
       "      <td>47.0</td>\n",
       "      <td>M</td>\n",
       "      <td>W</td>\n",
       "      <td>Aloha</td>\n",
       "      <td>OR</td>\n",
       "      <td>False</td>\n",
       "      <td>attack</td>\n",
       "      <td>Not fleeing</td>\n",
       "      <td>False</td>\n",
       "    </tr>\n",
       "    <tr>\n",
       "      <th>2</th>\n",
       "      <td>5</td>\n",
       "      <td>John Paul Quintero</td>\n",
       "      <td>2015-01-03</td>\n",
       "      <td>shot and Tasered</td>\n",
       "      <td>unarmed</td>\n",
       "      <td>23.0</td>\n",
       "      <td>M</td>\n",
       "      <td>H</td>\n",
       "      <td>Wichita</td>\n",
       "      <td>KS</td>\n",
       "      <td>False</td>\n",
       "      <td>other</td>\n",
       "      <td>Not fleeing</td>\n",
       "      <td>False</td>\n",
       "    </tr>\n",
       "    <tr>\n",
       "      <th>3</th>\n",
       "      <td>8</td>\n",
       "      <td>Matthew Hoffman</td>\n",
       "      <td>2015-01-04</td>\n",
       "      <td>shot</td>\n",
       "      <td>toy weapon</td>\n",
       "      <td>32.0</td>\n",
       "      <td>M</td>\n",
       "      <td>W</td>\n",
       "      <td>San Francisco</td>\n",
       "      <td>CA</td>\n",
       "      <td>True</td>\n",
       "      <td>attack</td>\n",
       "      <td>Not fleeing</td>\n",
       "      <td>False</td>\n",
       "    </tr>\n",
       "    <tr>\n",
       "      <th>4</th>\n",
       "      <td>9</td>\n",
       "      <td>Michael Rodriguez</td>\n",
       "      <td>2015-01-04</td>\n",
       "      <td>shot</td>\n",
       "      <td>nail gun</td>\n",
       "      <td>39.0</td>\n",
       "      <td>M</td>\n",
       "      <td>H</td>\n",
       "      <td>Evans</td>\n",
       "      <td>CO</td>\n",
       "      <td>False</td>\n",
       "      <td>attack</td>\n",
       "      <td>Not fleeing</td>\n",
       "      <td>False</td>\n",
       "    </tr>\n",
       "  </tbody>\n",
       "</table>\n",
       "</div>"
      ],
      "text/plain": [
       "   id                name        date   manner_of_death       armed   age  \\\n",
       "0   3          Tim Elliot  2015-01-02              shot         gun  53.0   \n",
       "1   4    Lewis Lee Lembke  2015-01-02              shot         gun  47.0   \n",
       "2   5  John Paul Quintero  2015-01-03  shot and Tasered     unarmed  23.0   \n",
       "3   8     Matthew Hoffman  2015-01-04              shot  toy weapon  32.0   \n",
       "4   9   Michael Rodriguez  2015-01-04              shot    nail gun  39.0   \n",
       "\n",
       "  gender race           city state  signs_of_mental_illness threat_level  \\\n",
       "0      M    A        Shelton    WA                     True       attack   \n",
       "1      M    W          Aloha    OR                    False       attack   \n",
       "2      M    H        Wichita    KS                    False        other   \n",
       "3      M    W  San Francisco    CA                     True       attack   \n",
       "4      M    H          Evans    CO                    False       attack   \n",
       "\n",
       "          flee  body_camera  \n",
       "0  Not fleeing        False  \n",
       "1  Not fleeing        False  \n",
       "2  Not fleeing        False  \n",
       "3  Not fleeing        False  \n",
       "4  Not fleeing        False  "
      ]
     },
     "execution_count": 2,
     "metadata": {},
     "output_type": "execute_result"
    }
   ],
   "source": [
    "police = pd.read_csv(\"fatal-police-shootings-data.csv\")\n",
    "police.head()"
   ]
  },
  {
   "cell_type": "code",
   "execution_count": null,
   "id": "c2e607d0",
   "metadata": {
    "id": "c2e607d0",
    "outputId": "5c498e35-683e-4c34-f318-c8778bcdede8"
   },
   "outputs": [
    {
     "name": "stdout",
     "output_type": "stream",
     "text": [
      "<class 'pandas.core.frame.DataFrame'>\n",
      "RangeIndex: 4478 entries, 0 to 4477\n",
      "Data columns (total 14 columns):\n",
      " #   Column                   Non-Null Count  Dtype  \n",
      "---  ------                   --------------  -----  \n",
      " 0   id                       4478 non-null   int64  \n",
      " 1   name                     4478 non-null   object \n",
      " 2   date                     4478 non-null   object \n",
      " 3   manner_of_death          4478 non-null   object \n",
      " 4   armed                    4230 non-null   object \n",
      " 5   age                      4309 non-null   float64\n",
      " 6   gender                   4473 non-null   object \n",
      " 7   race                     4105 non-null   object \n",
      " 8   city                     4478 non-null   object \n",
      " 9   state                    4478 non-null   object \n",
      " 10  signs_of_mental_illness  4478 non-null   bool   \n",
      " 11  threat_level             4478 non-null   object \n",
      " 12  flee                     4299 non-null   object \n",
      " 13  body_camera              4478 non-null   bool   \n",
      "dtypes: bool(2), float64(1), int64(1), object(10)\n",
      "memory usage: 428.7+ KB\n"
     ]
    }
   ],
   "source": [
    "police.info()"
   ]
  },
  {
   "cell_type": "markdown",
   "id": "cff3f4d5",
   "metadata": {
    "id": "cff3f4d5"
   },
   "source": [
    "### Let's pre-process the data"
   ]
  },
  {
   "cell_type": "code",
   "execution_count": null,
   "id": "6256a9f0",
   "metadata": {
    "id": "6256a9f0"
   },
   "outputs": [],
   "source": [
    "# Remove all the rows that contain missing value\n",
    "police = police.dropna()"
   ]
  },
  {
   "cell_type": "code",
   "execution_count": null,
   "id": "d8ba2cb3",
   "metadata": {
    "id": "d8ba2cb3",
    "outputId": "c129f9b9-d36e-4002-c6f5-020d33ac0cdc"
   },
   "outputs": [
    {
     "data": {
      "text/plain": [
       "Index(['id', 'name', 'date', 'manner_of_death', 'armed', 'age', 'gender',\n",
       "       'race', 'city', 'state', 'signs_of_mental_illness', 'threat_level',\n",
       "       'flee', 'body_camera'],\n",
       "      dtype='object')"
      ]
     },
     "execution_count": 5,
     "metadata": {},
     "output_type": "execute_result"
    }
   ],
   "source": [
    "police.columns"
   ]
  },
  {
   "cell_type": "code",
   "execution_count": null,
   "id": "05b79d04",
   "metadata": {
    "id": "05b79d04",
    "outputId": "9d44c146-36a7-405c-b0b9-51e8317ca47c"
   },
   "outputs": [
    {
     "data": {
      "text/html": [
       "<div>\n",
       "<style scoped>\n",
       "    .dataframe tbody tr th:only-of-type {\n",
       "        vertical-align: middle;\n",
       "    }\n",
       "\n",
       "    .dataframe tbody tr th {\n",
       "        vertical-align: top;\n",
       "    }\n",
       "\n",
       "    .dataframe thead th {\n",
       "        text-align: right;\n",
       "    }\n",
       "</style>\n",
       "<table border=\"1\" class=\"dataframe\">\n",
       "  <thead>\n",
       "    <tr style=\"text-align: right;\">\n",
       "      <th></th>\n",
       "      <th>manner_of_death</th>\n",
       "      <th>armed</th>\n",
       "      <th>age</th>\n",
       "      <th>gender</th>\n",
       "      <th>race</th>\n",
       "      <th>signs_of_mental_illness</th>\n",
       "      <th>threat_level</th>\n",
       "      <th>flee</th>\n",
       "      <th>body_camera</th>\n",
       "    </tr>\n",
       "  </thead>\n",
       "  <tbody>\n",
       "    <tr>\n",
       "      <th>0</th>\n",
       "      <td>shot</td>\n",
       "      <td>gun</td>\n",
       "      <td>53.0</td>\n",
       "      <td>M</td>\n",
       "      <td>A</td>\n",
       "      <td>True</td>\n",
       "      <td>attack</td>\n",
       "      <td>Not fleeing</td>\n",
       "      <td>False</td>\n",
       "    </tr>\n",
       "    <tr>\n",
       "      <th>1</th>\n",
       "      <td>shot</td>\n",
       "      <td>gun</td>\n",
       "      <td>47.0</td>\n",
       "      <td>M</td>\n",
       "      <td>W</td>\n",
       "      <td>False</td>\n",
       "      <td>attack</td>\n",
       "      <td>Not fleeing</td>\n",
       "      <td>False</td>\n",
       "    </tr>\n",
       "    <tr>\n",
       "      <th>2</th>\n",
       "      <td>shot and Tasered</td>\n",
       "      <td>unarmed</td>\n",
       "      <td>23.0</td>\n",
       "      <td>M</td>\n",
       "      <td>H</td>\n",
       "      <td>False</td>\n",
       "      <td>other</td>\n",
       "      <td>Not fleeing</td>\n",
       "      <td>False</td>\n",
       "    </tr>\n",
       "    <tr>\n",
       "      <th>3</th>\n",
       "      <td>shot</td>\n",
       "      <td>toy weapon</td>\n",
       "      <td>32.0</td>\n",
       "      <td>M</td>\n",
       "      <td>W</td>\n",
       "      <td>True</td>\n",
       "      <td>attack</td>\n",
       "      <td>Not fleeing</td>\n",
       "      <td>False</td>\n",
       "    </tr>\n",
       "    <tr>\n",
       "      <th>4</th>\n",
       "      <td>shot</td>\n",
       "      <td>nail gun</td>\n",
       "      <td>39.0</td>\n",
       "      <td>M</td>\n",
       "      <td>H</td>\n",
       "      <td>False</td>\n",
       "      <td>attack</td>\n",
       "      <td>Not fleeing</td>\n",
       "      <td>False</td>\n",
       "    </tr>\n",
       "  </tbody>\n",
       "</table>\n",
       "</div>"
      ],
      "text/plain": [
       "    manner_of_death       armed   age gender race  signs_of_mental_illness  \\\n",
       "0              shot         gun  53.0      M    A                     True   \n",
       "1              shot         gun  47.0      M    W                    False   \n",
       "2  shot and Tasered     unarmed  23.0      M    H                    False   \n",
       "3              shot  toy weapon  32.0      M    W                     True   \n",
       "4              shot    nail gun  39.0      M    H                    False   \n",
       "\n",
       "  threat_level         flee  body_camera  \n",
       "0       attack  Not fleeing        False  \n",
       "1       attack  Not fleeing        False  \n",
       "2        other  Not fleeing        False  \n",
       "3       attack  Not fleeing        False  \n",
       "4       attack  Not fleeing        False  "
      ]
     },
     "execution_count": 6,
     "metadata": {},
     "output_type": "execute_result"
    }
   ],
   "source": [
    "# Drop redundant or not so useful columns for model building\n",
    "police = police.drop(['id','date','name','city','state'],axis=1)\n",
    "\n",
    "\n",
    "# We take a copy of our source data.\n",
    "df = copy.deepcopy(police)\n",
    "df.head()\n",
    "\n",
    "\n"
   ]
  },
  {
   "cell_type": "code",
   "execution_count": null,
   "id": "13ab7005",
   "metadata": {
    "id": "13ab7005"
   },
   "outputs": [],
   "source": [
    "# Convert categorical variables to numeric\n",
    "for feature in df.columns: # Loop through all columns in the dataframe\n",
    "    if df[feature].dtype == 'object': # Only apply for columns with categorical strings\n",
    "        df[feature] = pd.Categorical(df[feature]).codes # Replace strings with an integer"
   ]
  },
  {
   "cell_type": "code",
   "execution_count": null,
   "id": "1e3fb73d",
   "metadata": {
    "id": "1e3fb73d"
   },
   "outputs": [],
   "source": [
    "# Convert boolean features to numeric\n",
    "df = pd.get_dummies(df, columns=['signs_of_mental_illness','body_camera'])"
   ]
  },
  {
   "cell_type": "code",
   "execution_count": null,
   "id": "3d6c8ddd",
   "metadata": {
    "id": "3d6c8ddd",
    "outputId": "050ceb22-1816-4cb5-c40d-0ff1652d04ba"
   },
   "outputs": [
    {
     "data": {
      "text/html": [
       "<div>\n",
       "<style scoped>\n",
       "    .dataframe tbody tr th:only-of-type {\n",
       "        vertical-align: middle;\n",
       "    }\n",
       "\n",
       "    .dataframe tbody tr th {\n",
       "        vertical-align: top;\n",
       "    }\n",
       "\n",
       "    .dataframe thead th {\n",
       "        text-align: right;\n",
       "    }\n",
       "</style>\n",
       "<table border=\"1\" class=\"dataframe\">\n",
       "  <thead>\n",
       "    <tr style=\"text-align: right;\">\n",
       "      <th></th>\n",
       "      <th>manner_of_death</th>\n",
       "      <th>armed</th>\n",
       "      <th>age</th>\n",
       "      <th>gender</th>\n",
       "      <th>race</th>\n",
       "      <th>threat_level</th>\n",
       "      <th>flee</th>\n",
       "      <th>signs_of_mental_illness_False</th>\n",
       "      <th>signs_of_mental_illness_True</th>\n",
       "      <th>body_camera_False</th>\n",
       "      <th>body_camera_True</th>\n",
       "    </tr>\n",
       "  </thead>\n",
       "  <tbody>\n",
       "    <tr>\n",
       "      <th>0</th>\n",
       "      <td>0</td>\n",
       "      <td>30</td>\n",
       "      <td>53.0</td>\n",
       "      <td>1</td>\n",
       "      <td>0</td>\n",
       "      <td>0</td>\n",
       "      <td>2</td>\n",
       "      <td>0</td>\n",
       "      <td>1</td>\n",
       "      <td>1</td>\n",
       "      <td>0</td>\n",
       "    </tr>\n",
       "    <tr>\n",
       "      <th>1</th>\n",
       "      <td>0</td>\n",
       "      <td>30</td>\n",
       "      <td>47.0</td>\n",
       "      <td>1</td>\n",
       "      <td>5</td>\n",
       "      <td>0</td>\n",
       "      <td>2</td>\n",
       "      <td>1</td>\n",
       "      <td>0</td>\n",
       "      <td>1</td>\n",
       "      <td>0</td>\n",
       "    </tr>\n",
       "    <tr>\n",
       "      <th>2</th>\n",
       "      <td>1</td>\n",
       "      <td>75</td>\n",
       "      <td>23.0</td>\n",
       "      <td>1</td>\n",
       "      <td>2</td>\n",
       "      <td>1</td>\n",
       "      <td>2</td>\n",
       "      <td>1</td>\n",
       "      <td>0</td>\n",
       "      <td>1</td>\n",
       "      <td>0</td>\n",
       "    </tr>\n",
       "    <tr>\n",
       "      <th>3</th>\n",
       "      <td>0</td>\n",
       "      <td>74</td>\n",
       "      <td>32.0</td>\n",
       "      <td>1</td>\n",
       "      <td>5</td>\n",
       "      <td>0</td>\n",
       "      <td>2</td>\n",
       "      <td>0</td>\n",
       "      <td>1</td>\n",
       "      <td>1</td>\n",
       "      <td>0</td>\n",
       "    </tr>\n",
       "    <tr>\n",
       "      <th>4</th>\n",
       "      <td>0</td>\n",
       "      <td>53</td>\n",
       "      <td>39.0</td>\n",
       "      <td>1</td>\n",
       "      <td>2</td>\n",
       "      <td>0</td>\n",
       "      <td>2</td>\n",
       "      <td>1</td>\n",
       "      <td>0</td>\n",
       "      <td>1</td>\n",
       "      <td>0</td>\n",
       "    </tr>\n",
       "  </tbody>\n",
       "</table>\n",
       "</div>"
      ],
      "text/plain": [
       "   manner_of_death  armed   age  gender  race  threat_level  flee  \\\n",
       "0                0     30  53.0       1     0             0     2   \n",
       "1                0     30  47.0       1     5             0     2   \n",
       "2                1     75  23.0       1     2             1     2   \n",
       "3                0     74  32.0       1     5             0     2   \n",
       "4                0     53  39.0       1     2             0     2   \n",
       "\n",
       "   signs_of_mental_illness_False  signs_of_mental_illness_True  \\\n",
       "0                              0                             1   \n",
       "1                              1                             0   \n",
       "2                              1                             0   \n",
       "3                              0                             1   \n",
       "4                              1                             0   \n",
       "\n",
       "   body_camera_False  body_camera_True  \n",
       "0                  1                 0  \n",
       "1                  1                 0  \n",
       "2                  1                 0  \n",
       "3                  1                 0  \n",
       "4                  1                 0  "
      ]
     },
     "execution_count": 9,
     "metadata": {},
     "output_type": "execute_result"
    }
   ],
   "source": [
    "df.head()"
   ]
  },
  {
   "cell_type": "markdown",
   "id": "4fc5f0ab",
   "metadata": {
    "id": "4fc5f0ab"
   },
   "source": [
    "### Let's perform K-Means Clustering on the data"
   ]
  },
  {
   "cell_type": "markdown",
   "id": "b03a4051",
   "metadata": {
    "id": "b03a4051"
   },
   "source": [
    "### Question 1: 2 Marks\n",
    "**Perform K-Means clustering on 1 to 10 clusters using the pre processed data and find each cluster's inertia rate. Also, find the optimal number of clusters.**"
   ]
  },
  {
   "cell_type": "code",
   "execution_count": null,
   "id": "74d5e3eb",
   "metadata": {
    "id": "74d5e3eb"
   },
   "outputs": [],
   "source": [
    "from sklearn.cluster import '<<__A__>>'      # import corresponding library to perform  kmeans\n",
    "\n",
    "clusters = []\n",
    "\n",
    "for '<<__B__>>':       # write a for loop to loop through 1 to 10 clusters.\n",
    "    km = '<<__C__>>'(n_clusters=i,random_state = 1).'<<__D__>>'   #Fit the pre-processed data to the KMeans clusters from sklearn.cluster library.Save it in the new variable km\n",
    "    clusters.'<<__E__>>'(km.inertia_)                     # Append created empty list 'clusters' to capture inertia of all clusters  \n",
    "    print(km.inertia_)\n",
    "    \n",
    "\n",
    "## Plotting Elbow plot to know the optimal number of clusters.    \n",
    "fig, ax = plt.subplots(figsize=(12, 8))\n",
    "plt.plot(range(1,11),clusters, marker = '*')\n",
    "ax.set_title('Searching for Elbow')\n",
    "ax.set_xlabel('Clusters')\n",
    "ax.set_ylabel('Inertia')\n",
    "\n",
    "# TODO: Code to fill: \n",
    "\n",
    "# 1. '<<__A__>>' --> import corresponding library to perform  kmeans\n",
    "# 2. '<<__B__>>' --> write a for loop to loop through 1 to 10 clusters.\n",
    "# 3. '<<__C__>>','<<__D__>> --> write appropriate command to fit the pre-processed data to the KMeans clusters from sklearn.cluster library.Save it in the new variable km\n",
    "# 4. '<<__E__>>' --> Append created empty list 'clusters' to capture inertia of all clusters  "
   ]
  },
  {
   "cell_type": "code",
   "execution_count": null,
   "id": "1ad1d5ae",
   "metadata": {
    "id": "1ad1d5ae",
    "outputId": "a1048697-ba36-4324-9d21-28446c34e531"
   },
   "outputs": [
    {
     "name": "stdout",
     "output_type": "stream",
     "text": [
      "Optimal number of cluster is __________.\n"
     ]
    }
   ],
   "source": [
    "print(\"Optimal number of cluster is __________.\") # Find out the optimal number of cluster by seeing the Elbow plot and inertia."
   ]
  },
  {
   "cell_type": "markdown",
   "id": "b6533410",
   "metadata": {
    "id": "b6533410"
   },
   "source": [
    "### Question 2: 2 Marks\n",
    "**Perform KMeans Clustering on 3 clusters and assign the cluster labels to a new attribute 'clusters'.**"
   ]
  },
  {
   "cell_type": "code",
   "execution_count": null,
   "id": "344a658b",
   "metadata": {
    "id": "344a658b"
   },
   "outputs": [],
   "source": [
    "kmeans = '<<__A__>>'('<<__B__>>',random_state = 1) # Build K Means of 3 Clusters\n",
    "kmeans.fit(df)\n",
    "df_cluster = df.copy()\n",
    "df_cluster['clusters'] = '<<__C__>>'           # Assign Cluster labels on new attribute 'clusters'\n",
    "df_cluster.head()\n",
    "\n",
    "# TODO: Code to fill: \n",
    "\n",
    "# 1. '<<__A__>>','<<__B__>>' --> use appropriate function and paramter to build 3 clusters\n",
    "# 2.  '<<__C__>>'-->  Use appropriate command to assign Cluster labels on new attribute 'clusters'"
   ]
  },
  {
   "cell_type": "markdown",
   "id": "9571fd4d",
   "metadata": {
    "id": "9571fd4d"
   },
   "source": [
    "### Cluster Profiling"
   ]
  },
  {
   "cell_type": "code",
   "execution_count": null,
   "id": "a277df59",
   "metadata": {
    "id": "a277df59",
    "outputId": "ba76b511-67f6-4c4e-c6aa-f06d75adf28a"
   },
   "outputs": [
    {
     "data": {
      "text/html": [
       "<div>\n",
       "<style scoped>\n",
       "    .dataframe tbody tr th:only-of-type {\n",
       "        vertical-align: middle;\n",
       "    }\n",
       "\n",
       "    .dataframe tbody tr th {\n",
       "        vertical-align: top;\n",
       "    }\n",
       "\n",
       "    .dataframe thead th {\n",
       "        text-align: right;\n",
       "    }\n",
       "</style>\n",
       "<table border=\"1\" class=\"dataframe\">\n",
       "  <thead>\n",
       "    <tr style=\"text-align: right;\">\n",
       "      <th></th>\n",
       "      <th>manner_of_death</th>\n",
       "      <th>armed</th>\n",
       "      <th>age</th>\n",
       "      <th>gender</th>\n",
       "      <th>race</th>\n",
       "      <th>threat_level</th>\n",
       "      <th>flee</th>\n",
       "      <th>signs_of_mental_illness_False</th>\n",
       "      <th>signs_of_mental_illness_True</th>\n",
       "      <th>body_camera_False</th>\n",
       "      <th>body_camera_True</th>\n",
       "    </tr>\n",
       "    <tr>\n",
       "      <th>clusters</th>\n",
       "      <th></th>\n",
       "      <th></th>\n",
       "      <th></th>\n",
       "      <th></th>\n",
       "      <th></th>\n",
       "      <th></th>\n",
       "      <th></th>\n",
       "      <th></th>\n",
       "      <th></th>\n",
       "      <th></th>\n",
       "      <th></th>\n",
       "    </tr>\n",
       "  </thead>\n",
       "  <tbody>\n",
       "    <tr>\n",
       "      <th>0</th>\n",
       "      <td>0.046487</td>\n",
       "      <td>31.925515</td>\n",
       "      <td>29.268357</td>\n",
       "      <td>0.963022</td>\n",
       "      <td>2.984680</td>\n",
       "      <td>0.328579</td>\n",
       "      <td>1.589540</td>\n",
       "      <td>0.765452</td>\n",
       "      <td>0.234548</td>\n",
       "      <td>0.880613</td>\n",
       "      <td>0.119387</td>\n",
       "    </tr>\n",
       "    <tr>\n",
       "      <th>1</th>\n",
       "      <td>0.074896</td>\n",
       "      <td>74.611650</td>\n",
       "      <td>33.324549</td>\n",
       "      <td>0.938974</td>\n",
       "      <td>3.062413</td>\n",
       "      <td>0.675451</td>\n",
       "      <td>1.443828</td>\n",
       "      <td>0.771151</td>\n",
       "      <td>0.228849</td>\n",
       "      <td>0.857143</td>\n",
       "      <td>0.142857</td>\n",
       "    </tr>\n",
       "    <tr>\n",
       "      <th>2</th>\n",
       "      <td>0.049571</td>\n",
       "      <td>31.956149</td>\n",
       "      <td>51.851287</td>\n",
       "      <td>0.950429</td>\n",
       "      <td>3.914204</td>\n",
       "      <td>0.298379</td>\n",
       "      <td>1.777884</td>\n",
       "      <td>0.706387</td>\n",
       "      <td>0.293613</td>\n",
       "      <td>0.907531</td>\n",
       "      <td>0.092469</td>\n",
       "    </tr>\n",
       "  </tbody>\n",
       "</table>\n",
       "</div>"
      ],
      "text/plain": [
       "          manner_of_death      armed        age    gender      race  \\\n",
       "clusters                                                              \n",
       "0                0.046487  31.925515  29.268357  0.963022  2.984680   \n",
       "1                0.074896  74.611650  33.324549  0.938974  3.062413   \n",
       "2                0.049571  31.956149  51.851287  0.950429  3.914204   \n",
       "\n",
       "          threat_level      flee  signs_of_mental_illness_False  \\\n",
       "clusters                                                          \n",
       "0             0.328579  1.589540                       0.765452   \n",
       "1             0.675451  1.443828                       0.771151   \n",
       "2             0.298379  1.777884                       0.706387   \n",
       "\n",
       "          signs_of_mental_illness_True  body_camera_False  body_camera_True  \n",
       "clusters                                                                     \n",
       "0                             0.234548           0.880613          0.119387  \n",
       "1                             0.228849           0.857143          0.142857  \n",
       "2                             0.293613           0.907531          0.092469  "
      ]
     },
     "execution_count": 54,
     "metadata": {},
     "output_type": "execute_result"
    }
   ],
   "source": [
    "cluster_profiles = df_cluster.groupby('clusters').mean()\n",
    "cluster_profiles"
   ]
  },
  {
   "cell_type": "code",
   "execution_count": null,
   "id": "83ee89c8",
   "metadata": {
    "id": "83ee89c8",
    "outputId": "14f29ed3-fd95-46e7-de49-7916988ea769"
   },
   "outputs": [
    {
     "data": {
      "text/html": [
       "<div>\n",
       "<style scoped>\n",
       "    .dataframe tbody tr th:only-of-type {\n",
       "        vertical-align: middle;\n",
       "    }\n",
       "\n",
       "    .dataframe tbody tr th {\n",
       "        vertical-align: top;\n",
       "    }\n",
       "\n",
       "    .dataframe thead th {\n",
       "        text-align: right;\n",
       "    }\n",
       "</style>\n",
       "<table border=\"1\" class=\"dataframe\">\n",
       "  <thead>\n",
       "    <tr style=\"text-align: right;\">\n",
       "      <th>clusters</th>\n",
       "      <th>0</th>\n",
       "      <th>1</th>\n",
       "      <th>2</th>\n",
       "    </tr>\n",
       "  </thead>\n",
       "  <tbody>\n",
       "    <tr>\n",
       "      <th>manner_of_death</th>\n",
       "      <td>0.046487</td>\n",
       "      <td>0.074896</td>\n",
       "      <td>0.049571</td>\n",
       "    </tr>\n",
       "    <tr>\n",
       "      <th>armed</th>\n",
       "      <td>31.925515</td>\n",
       "      <td>74.611650</td>\n",
       "      <td>31.956149</td>\n",
       "    </tr>\n",
       "    <tr>\n",
       "      <th>age</th>\n",
       "      <td>29.268357</td>\n",
       "      <td>33.324549</td>\n",
       "      <td>51.851287</td>\n",
       "    </tr>\n",
       "    <tr>\n",
       "      <th>gender</th>\n",
       "      <td>0.963022</td>\n",
       "      <td>0.938974</td>\n",
       "      <td>0.950429</td>\n",
       "    </tr>\n",
       "    <tr>\n",
       "      <th>race</th>\n",
       "      <td>2.984680</td>\n",
       "      <td>3.062413</td>\n",
       "      <td>3.914204</td>\n",
       "    </tr>\n",
       "    <tr>\n",
       "      <th>threat_level</th>\n",
       "      <td>0.328579</td>\n",
       "      <td>0.675451</td>\n",
       "      <td>0.298379</td>\n",
       "    </tr>\n",
       "    <tr>\n",
       "      <th>flee</th>\n",
       "      <td>1.589540</td>\n",
       "      <td>1.443828</td>\n",
       "      <td>1.777884</td>\n",
       "    </tr>\n",
       "    <tr>\n",
       "      <th>signs_of_mental_illness_False</th>\n",
       "      <td>0.765452</td>\n",
       "      <td>0.771151</td>\n",
       "      <td>0.706387</td>\n",
       "    </tr>\n",
       "    <tr>\n",
       "      <th>signs_of_mental_illness_True</th>\n",
       "      <td>0.234548</td>\n",
       "      <td>0.228849</td>\n",
       "      <td>0.293613</td>\n",
       "    </tr>\n",
       "    <tr>\n",
       "      <th>body_camera_False</th>\n",
       "      <td>0.880613</td>\n",
       "      <td>0.857143</td>\n",
       "      <td>0.907531</td>\n",
       "    </tr>\n",
       "    <tr>\n",
       "      <th>body_camera_True</th>\n",
       "      <td>0.119387</td>\n",
       "      <td>0.142857</td>\n",
       "      <td>0.092469</td>\n",
       "    </tr>\n",
       "    <tr>\n",
       "      <th>Freq</th>\n",
       "      <td>1893.000000</td>\n",
       "      <td>721.000000</td>\n",
       "      <td>1049.000000</td>\n",
       "    </tr>\n",
       "  </tbody>\n",
       "</table>\n",
       "</div>"
      ],
      "text/plain": [
       "clusters                                 0           1            2\n",
       "manner_of_death                   0.046487    0.074896     0.049571\n",
       "armed                            31.925515   74.611650    31.956149\n",
       "age                              29.268357   33.324549    51.851287\n",
       "gender                            0.963022    0.938974     0.950429\n",
       "race                              2.984680    3.062413     3.914204\n",
       "threat_level                      0.328579    0.675451     0.298379\n",
       "flee                              1.589540    1.443828     1.777884\n",
       "signs_of_mental_illness_False     0.765452    0.771151     0.706387\n",
       "signs_of_mental_illness_True      0.234548    0.228849     0.293613\n",
       "body_camera_False                 0.880613    0.857143     0.907531\n",
       "body_camera_True                  0.119387    0.142857     0.092469\n",
       "Freq                           1893.000000  721.000000  1049.000000"
      ]
     },
     "execution_count": 55,
     "metadata": {},
     "output_type": "execute_result"
    }
   ],
   "source": [
    "cluster_profiles = df_cluster.groupby(\"clusters\").mean()\n",
    "cluster_profiles['Freq']= df_cluster.clusters.value_counts().sort_index()\n",
    "cluster_profiles.T"
   ]
  },
  {
   "cell_type": "code",
   "execution_count": null,
   "id": "d6c1db27",
   "metadata": {
    "id": "d6c1db27",
    "outputId": "9c053319-5d3a-455b-8242-067255bf8a97"
   },
   "outputs": [
    {
     "data": {
      "text/html": [
       "<style type=\"text/css\">\n",
       "#T_449d5_row0_col3, #T_449d5_row0_col11, #T_449d5_row1_col0, #T_449d5_row1_col1, #T_449d5_row1_col5, #T_449d5_row1_col7, #T_449d5_row1_col10, #T_449d5_row2_col2, #T_449d5_row2_col4, #T_449d5_row2_col6, #T_449d5_row2_col8, #T_449d5_row2_col9 {\n",
       "  background-color: lightgreen;\n",
       "}\n",
       "</style>\n",
       "<table id=\"T_449d5_\">\n",
       "  <thead>\n",
       "    <tr>\n",
       "      <th class=\"blank level0\" >&nbsp;</th>\n",
       "      <th class=\"col_heading level0 col0\" >manner_of_death</th>\n",
       "      <th class=\"col_heading level0 col1\" >armed</th>\n",
       "      <th class=\"col_heading level0 col2\" >age</th>\n",
       "      <th class=\"col_heading level0 col3\" >gender</th>\n",
       "      <th class=\"col_heading level0 col4\" >race</th>\n",
       "      <th class=\"col_heading level0 col5\" >threat_level</th>\n",
       "      <th class=\"col_heading level0 col6\" >flee</th>\n",
       "      <th class=\"col_heading level0 col7\" >signs_of_mental_illness_False</th>\n",
       "      <th class=\"col_heading level0 col8\" >signs_of_mental_illness_True</th>\n",
       "      <th class=\"col_heading level0 col9\" >body_camera_False</th>\n",
       "      <th class=\"col_heading level0 col10\" >body_camera_True</th>\n",
       "      <th class=\"col_heading level0 col11\" >Freq</th>\n",
       "    </tr>\n",
       "    <tr>\n",
       "      <th class=\"index_name level0\" >clusters</th>\n",
       "      <th class=\"blank col0\" >&nbsp;</th>\n",
       "      <th class=\"blank col1\" >&nbsp;</th>\n",
       "      <th class=\"blank col2\" >&nbsp;</th>\n",
       "      <th class=\"blank col3\" >&nbsp;</th>\n",
       "      <th class=\"blank col4\" >&nbsp;</th>\n",
       "      <th class=\"blank col5\" >&nbsp;</th>\n",
       "      <th class=\"blank col6\" >&nbsp;</th>\n",
       "      <th class=\"blank col7\" >&nbsp;</th>\n",
       "      <th class=\"blank col8\" >&nbsp;</th>\n",
       "      <th class=\"blank col9\" >&nbsp;</th>\n",
       "      <th class=\"blank col10\" >&nbsp;</th>\n",
       "      <th class=\"blank col11\" >&nbsp;</th>\n",
       "    </tr>\n",
       "  </thead>\n",
       "  <tbody>\n",
       "    <tr>\n",
       "      <th id=\"T_449d5_level0_row0\" class=\"row_heading level0 row0\" >0</th>\n",
       "      <td id=\"T_449d5_row0_col0\" class=\"data row0 col0\" >0.046487</td>\n",
       "      <td id=\"T_449d5_row0_col1\" class=\"data row0 col1\" >31.925515</td>\n",
       "      <td id=\"T_449d5_row0_col2\" class=\"data row0 col2\" >29.268357</td>\n",
       "      <td id=\"T_449d5_row0_col3\" class=\"data row0 col3\" >0.963022</td>\n",
       "      <td id=\"T_449d5_row0_col4\" class=\"data row0 col4\" >2.984680</td>\n",
       "      <td id=\"T_449d5_row0_col5\" class=\"data row0 col5\" >0.328579</td>\n",
       "      <td id=\"T_449d5_row0_col6\" class=\"data row0 col6\" >1.589540</td>\n",
       "      <td id=\"T_449d5_row0_col7\" class=\"data row0 col7\" >0.765452</td>\n",
       "      <td id=\"T_449d5_row0_col8\" class=\"data row0 col8\" >0.234548</td>\n",
       "      <td id=\"T_449d5_row0_col9\" class=\"data row0 col9\" >0.880613</td>\n",
       "      <td id=\"T_449d5_row0_col10\" class=\"data row0 col10\" >0.119387</td>\n",
       "      <td id=\"T_449d5_row0_col11\" class=\"data row0 col11\" >1893</td>\n",
       "    </tr>\n",
       "    <tr>\n",
       "      <th id=\"T_449d5_level0_row1\" class=\"row_heading level0 row1\" >1</th>\n",
       "      <td id=\"T_449d5_row1_col0\" class=\"data row1 col0\" >0.074896</td>\n",
       "      <td id=\"T_449d5_row1_col1\" class=\"data row1 col1\" >74.611650</td>\n",
       "      <td id=\"T_449d5_row1_col2\" class=\"data row1 col2\" >33.324549</td>\n",
       "      <td id=\"T_449d5_row1_col3\" class=\"data row1 col3\" >0.938974</td>\n",
       "      <td id=\"T_449d5_row1_col4\" class=\"data row1 col4\" >3.062413</td>\n",
       "      <td id=\"T_449d5_row1_col5\" class=\"data row1 col5\" >0.675451</td>\n",
       "      <td id=\"T_449d5_row1_col6\" class=\"data row1 col6\" >1.443828</td>\n",
       "      <td id=\"T_449d5_row1_col7\" class=\"data row1 col7\" >0.771151</td>\n",
       "      <td id=\"T_449d5_row1_col8\" class=\"data row1 col8\" >0.228849</td>\n",
       "      <td id=\"T_449d5_row1_col9\" class=\"data row1 col9\" >0.857143</td>\n",
       "      <td id=\"T_449d5_row1_col10\" class=\"data row1 col10\" >0.142857</td>\n",
       "      <td id=\"T_449d5_row1_col11\" class=\"data row1 col11\" >721</td>\n",
       "    </tr>\n",
       "    <tr>\n",
       "      <th id=\"T_449d5_level0_row2\" class=\"row_heading level0 row2\" >2</th>\n",
       "      <td id=\"T_449d5_row2_col0\" class=\"data row2 col0\" >0.049571</td>\n",
       "      <td id=\"T_449d5_row2_col1\" class=\"data row2 col1\" >31.956149</td>\n",
       "      <td id=\"T_449d5_row2_col2\" class=\"data row2 col2\" >51.851287</td>\n",
       "      <td id=\"T_449d5_row2_col3\" class=\"data row2 col3\" >0.950429</td>\n",
       "      <td id=\"T_449d5_row2_col4\" class=\"data row2 col4\" >3.914204</td>\n",
       "      <td id=\"T_449d5_row2_col5\" class=\"data row2 col5\" >0.298379</td>\n",
       "      <td id=\"T_449d5_row2_col6\" class=\"data row2 col6\" >1.777884</td>\n",
       "      <td id=\"T_449d5_row2_col7\" class=\"data row2 col7\" >0.706387</td>\n",
       "      <td id=\"T_449d5_row2_col8\" class=\"data row2 col8\" >0.293613</td>\n",
       "      <td id=\"T_449d5_row2_col9\" class=\"data row2 col9\" >0.907531</td>\n",
       "      <td id=\"T_449d5_row2_col10\" class=\"data row2 col10\" >0.092469</td>\n",
       "      <td id=\"T_449d5_row2_col11\" class=\"data row2 col11\" >1049</td>\n",
       "    </tr>\n",
       "  </tbody>\n",
       "</table>\n"
      ],
      "text/plain": [
       "<pandas.io.formats.style.Styler at 0x1c3857554f0>"
      ]
     },
     "execution_count": 56,
     "metadata": {},
     "output_type": "execute_result"
    }
   ],
   "source": [
    "# let's display cluster profiles\n",
    "cluster_profiles.style.highlight_max(color=\"lightgreen\", axis=0)"
   ]
  },
  {
   "cell_type": "markdown",
   "id": "69fc330a",
   "metadata": {
    "id": "69fc330a"
   },
   "source": [
    "### Question 3: 2 Marks\n",
    "**Share you insights from the cluster profiles, 1 observation each.**"
   ]
  },
  {
   "cell_type": "markdown",
   "id": "be8de9c7",
   "metadata": {
    "id": "be8de9c7"
   },
   "source": [
    "### Intepretations:\n",
    "* Cluster 0  = \n",
    "* Cluster 1 = \n",
    "* Cluster 2 = "
   ]
  },
  {
   "cell_type": "markdown",
   "id": "4a865c09",
   "metadata": {
    "id": "4a865c09"
   },
   "source": [
    "## K-Medoids Clustering or PAM"
   ]
  },
  {
   "cell_type": "markdown",
   "id": "1004109f",
   "metadata": {
    "id": "1004109f"
   },
   "source": [
    "- Medoids are representative objects of a data set or a cluster within a data set whose sum of dissimilarities to all the objects in the cluster is minimal. K-Medoids (also called Partitioning Around Medoid)"
   ]
  },
  {
   "cell_type": "code",
   "execution_count": null,
   "id": "280495cf",
   "metadata": {
    "id": "280495cf",
    "outputId": "9f6e0138-3f28-4cdf-a687-36dc22eb148c"
   },
   "outputs": [
    {
     "name": "stdout",
     "output_type": "stream",
     "text": [
      "Requirement already satisfied: scikit-learn-extra in c:\\users\\vedavathi\\anaconda3\\lib\\site-packages (0.2.0)\n",
      "Requirement already satisfied: scipy>=0.19.1 in c:\\users\\vedavathi\\anaconda3\\lib\\site-packages (from scikit-learn-extra) (1.7.1)\n",
      "Requirement already satisfied: numpy>=1.13.3 in c:\\users\\vedavathi\\anaconda3\\lib\\site-packages (from scikit-learn-extra) (1.20.3)\n",
      "Requirement already satisfied: scikit-learn>=0.23.0 in c:\\users\\vedavathi\\anaconda3\\lib\\site-packages (from scikit-learn-extra) (1.1.3)\n",
      "Requirement already satisfied: joblib>=1.0.0 in c:\\users\\vedavathi\\anaconda3\\lib\\site-packages (from scikit-learn>=0.23.0->scikit-learn-extra) (1.1.0)\n",
      "Requirement already satisfied: threadpoolctl>=2.0.0 in c:\\users\\vedavathi\\anaconda3\\lib\\site-packages (from scikit-learn>=0.23.0->scikit-learn-extra) (2.2.0)\n"
     ]
    }
   ],
   "source": [
    "# To install K Medoids we need sklear-extra, hence install sklear-extra library\n",
    "!pip install scikit-learn-extra"
   ]
  },
  {
   "cell_type": "markdown",
   "id": "1a36a715",
   "metadata": {
    "id": "1a36a715"
   },
   "source": [
    "### Question 4: 2 Marks\n",
    "**Perform K Medoids or PAM on 1 to 10 clusters using the pre processed data and find each cluster's inertia rate.**"
   ]
  },
  {
   "cell_type": "code",
   "execution_count": null,
   "id": "7eedb2ca",
   "metadata": {
    "id": "7eedb2ca"
   },
   "outputs": [],
   "source": [
    "from sklearn_extra.cluster import '<<__A__>>'               \n",
    "clusters = []\n",
    "\n",
    "for '<<__B__>>':                                          \n",
    "   km = '<<__C__>>'(n_clusters=i,random_state = 1).'<<__D__>>'\n",
    "    clusters.'<<__E__>>'(km.inertia_)                          \n",
    "    print(km.inertia_)\n",
    "    \n",
    "\n",
    "# TODO: Code to fill: \n",
    "\n",
    "# 1. '<<__A__>>' --> import corresponding library to perform K medoids\n",
    "# 2. '<<__B__>>' --> write a for loop to loop through 1 to 10 clusters.\n",
    "# 3. '<<__C__>>','<<__D__>> --> write appropriate command to fit the pre-processed data to the kmedoids clusters from sklearn.cluster library.Save it in the new variable km\n",
    "# 4. '<<__E__>>' --> Append created empty list 'clusters' to capture inertia of all clusters  "
   ]
  },
  {
   "cell_type": "markdown",
   "id": "7a34fd1e",
   "metadata": {
    "id": "7a34fd1e"
   },
   "source": [
    "### Question 5: 2 Marks\n",
    "**Check the Silhouette scores for clusters ranging from 2 to 10 and also visualize them. Find out the optimal number of clusters.**"
   ]
  },
  {
   "cell_type": "code",
   "execution_count": null,
   "id": "7c095c78",
   "metadata": {
    "id": "7c095c78"
   },
   "outputs": [],
   "source": [
    "sil_score = []\n",
    "cluster_list = '<<__A__>>'\n",
    "for n_clusters in cluster_list:\n",
    "    clusterer = '<<__B__>>'(n_clusters=n_clusters)\n",
    "    preds = '<<__C__>>'.'<<__D__>>'\n",
    "    score = '<<__E__>>'(df, preds)\n",
    "    sil_score.append(score)        # Appending silhourtte scores of 2 to 10 clusters into earlier created empty list sil_score.\n",
    "    print(\"For n_clusters = {}, the silhouette score is {})\".format(n_clusters, score))\n",
    "\n",
    "plt.plot('<<__F__>>', '<<__G__>>')\n",
    "plt.show()\n",
    "\n",
    "# TODO: Code to fill: \n",
    "\n",
    "# 1. '<<__A__>>'                         --> Create a list of clusters ranging from 2 to 10.\n",
    "# 2. '<<__B__>>'                         --> Apply KMedoids algorithm on the created n_clusters\n",
    "# 3. '<<__C__>>'.'<<__D__>>'             --> Fit and predict above built KMedoids clusters algorithm on pre processed data \n",
    "# 4. '<<__E__>>'                         --> Find the silhoutte scores from sklearn.metrics library of those n_clusters and store it into a new attribute called 'score'\n",
    "# 5. '<<__F__>>', '<<__G__>>'            --> Plot all clusters and their corresponding silhouette scores.\n",
    "\n"
   ]
  },
  {
   "cell_type": "code",
   "execution_count": null,
   "id": "73f09255",
   "metadata": {
    "id": "73f09255",
    "outputId": "e3843f80-3a68-436a-b282-bb762efaebe7"
   },
   "outputs": [
    {
     "name": "stdout",
     "output_type": "stream",
     "text": [
      "Optimal number of cluster is __________.\n"
     ]
    }
   ],
   "source": [
    "print(\"Optimal number of cluster is __________.\") # Find out the optimal number of cluster by seeing the Silhouette scores."
   ]
  },
  {
   "cell_type": "code",
   "execution_count": null,
   "id": "b97d2b8d",
   "metadata": {
    "id": "b97d2b8d",
    "outputId": "4b544b4b-3127-4a5f-db10-e9ae5a887630"
   },
   "outputs": [
    {
     "data": {
      "text/html": [
       "<div>\n",
       "<style scoped>\n",
       "    .dataframe tbody tr th:only-of-type {\n",
       "        vertical-align: middle;\n",
       "    }\n",
       "\n",
       "    .dataframe tbody tr th {\n",
       "        vertical-align: top;\n",
       "    }\n",
       "\n",
       "    .dataframe thead th {\n",
       "        text-align: right;\n",
       "    }\n",
       "</style>\n",
       "<table border=\"1\" class=\"dataframe\">\n",
       "  <thead>\n",
       "    <tr style=\"text-align: right;\">\n",
       "      <th></th>\n",
       "      <th>manner_of_death</th>\n",
       "      <th>armed</th>\n",
       "      <th>age</th>\n",
       "      <th>gender</th>\n",
       "      <th>race</th>\n",
       "      <th>threat_level</th>\n",
       "      <th>flee</th>\n",
       "      <th>signs_of_mental_illness_False</th>\n",
       "      <th>signs_of_mental_illness_True</th>\n",
       "      <th>body_camera_False</th>\n",
       "      <th>body_camera_True</th>\n",
       "      <th>clusters_Med</th>\n",
       "    </tr>\n",
       "  </thead>\n",
       "  <tbody>\n",
       "    <tr>\n",
       "      <th>0</th>\n",
       "      <td>0</td>\n",
       "      <td>30</td>\n",
       "      <td>53.0</td>\n",
       "      <td>1</td>\n",
       "      <td>0</td>\n",
       "      <td>0</td>\n",
       "      <td>2</td>\n",
       "      <td>0</td>\n",
       "      <td>1</td>\n",
       "      <td>1</td>\n",
       "      <td>0</td>\n",
       "      <td>2</td>\n",
       "    </tr>\n",
       "    <tr>\n",
       "      <th>1</th>\n",
       "      <td>0</td>\n",
       "      <td>30</td>\n",
       "      <td>47.0</td>\n",
       "      <td>1</td>\n",
       "      <td>5</td>\n",
       "      <td>0</td>\n",
       "      <td>2</td>\n",
       "      <td>1</td>\n",
       "      <td>0</td>\n",
       "      <td>1</td>\n",
       "      <td>0</td>\n",
       "      <td>2</td>\n",
       "    </tr>\n",
       "    <tr>\n",
       "      <th>2</th>\n",
       "      <td>1</td>\n",
       "      <td>75</td>\n",
       "      <td>23.0</td>\n",
       "      <td>1</td>\n",
       "      <td>2</td>\n",
       "      <td>1</td>\n",
       "      <td>2</td>\n",
       "      <td>1</td>\n",
       "      <td>0</td>\n",
       "      <td>1</td>\n",
       "      <td>0</td>\n",
       "      <td>1</td>\n",
       "    </tr>\n",
       "    <tr>\n",
       "      <th>3</th>\n",
       "      <td>0</td>\n",
       "      <td>74</td>\n",
       "      <td>32.0</td>\n",
       "      <td>1</td>\n",
       "      <td>5</td>\n",
       "      <td>0</td>\n",
       "      <td>2</td>\n",
       "      <td>0</td>\n",
       "      <td>1</td>\n",
       "      <td>1</td>\n",
       "      <td>0</td>\n",
       "      <td>1</td>\n",
       "    </tr>\n",
       "    <tr>\n",
       "      <th>4</th>\n",
       "      <td>0</td>\n",
       "      <td>53</td>\n",
       "      <td>39.0</td>\n",
       "      <td>1</td>\n",
       "      <td>2</td>\n",
       "      <td>0</td>\n",
       "      <td>2</td>\n",
       "      <td>1</td>\n",
       "      <td>0</td>\n",
       "      <td>1</td>\n",
       "      <td>0</td>\n",
       "      <td>1</td>\n",
       "    </tr>\n",
       "  </tbody>\n",
       "</table>\n",
       "</div>"
      ],
      "text/plain": [
       "   manner_of_death  armed   age  gender  race  threat_level  flee  \\\n",
       "0                0     30  53.0       1     0             0     2   \n",
       "1                0     30  47.0       1     5             0     2   \n",
       "2                1     75  23.0       1     2             1     2   \n",
       "3                0     74  32.0       1     5             0     2   \n",
       "4                0     53  39.0       1     2             0     2   \n",
       "\n",
       "   signs_of_mental_illness_False  signs_of_mental_illness_True  \\\n",
       "0                              0                             1   \n",
       "1                              1                             0   \n",
       "2                              1                             0   \n",
       "3                              0                             1   \n",
       "4                              1                             0   \n",
       "\n",
       "   body_camera_False  body_camera_True  clusters_Med  \n",
       "0                  1                 0             2  \n",
       "1                  1                 0             2  \n",
       "2                  1                 0             1  \n",
       "3                  1                 0             1  \n",
       "4                  1                 0             1  "
      ]
     },
     "execution_count": 14,
     "metadata": {},
     "output_type": "execute_result"
    }
   ],
   "source": [
    "kmedoids = KMedoids(n_clusters = 3,random_state = 1)\n",
    "kmedoids.fit(df)\n",
    "df_cluster_Med = df.copy()\n",
    "df_cluster_Med['clusters_Med'] = kmedoids.labels_\n",
    "df_cluster_Med.head()"
   ]
  },
  {
   "cell_type": "markdown",
   "id": "c9a3a64f",
   "metadata": {
    "id": "c9a3a64f"
   },
   "source": [
    "### K Medoids Cluster Profiling"
   ]
  },
  {
   "cell_type": "markdown",
   "id": "6e827ab4",
   "metadata": {
    "id": "6e827ab4"
   },
   "source": [
    "**Group the cluster labels by their mean and find the Frequecy of each grouped clusters**"
   ]
  },
  {
   "cell_type": "code",
   "execution_count": null,
   "id": "3e6cae56",
   "metadata": {
    "id": "3e6cae56",
    "outputId": "30d29779-98fc-483a-f4b5-d07aee1cbe0c"
   },
   "outputs": [
    {
     "data": {
      "text/html": [
       "<div>\n",
       "<style scoped>\n",
       "    .dataframe tbody tr th:only-of-type {\n",
       "        vertical-align: middle;\n",
       "    }\n",
       "\n",
       "    .dataframe tbody tr th {\n",
       "        vertical-align: top;\n",
       "    }\n",
       "\n",
       "    .dataframe thead th {\n",
       "        text-align: right;\n",
       "    }\n",
       "</style>\n",
       "<table border=\"1\" class=\"dataframe\">\n",
       "  <thead>\n",
       "    <tr style=\"text-align: right;\">\n",
       "      <th>clusters_Med</th>\n",
       "      <th>0</th>\n",
       "      <th>1</th>\n",
       "      <th>2</th>\n",
       "    </tr>\n",
       "  </thead>\n",
       "  <tbody>\n",
       "    <tr>\n",
       "      <th>manner_of_death</th>\n",
       "      <td>0.047388</td>\n",
       "      <td>0.074896</td>\n",
       "      <td>0.047926</td>\n",
       "    </tr>\n",
       "    <tr>\n",
       "      <th>armed</th>\n",
       "      <td>31.957997</td>\n",
       "      <td>74.611650</td>\n",
       "      <td>31.899539</td>\n",
       "    </tr>\n",
       "    <tr>\n",
       "      <th>age</th>\n",
       "      <td>29.060312</td>\n",
       "      <td>33.324549</td>\n",
       "      <td>51.458065</td>\n",
       "    </tr>\n",
       "    <tr>\n",
       "      <th>gender</th>\n",
       "      <td>0.963382</td>\n",
       "      <td>0.938974</td>\n",
       "      <td>0.950230</td>\n",
       "    </tr>\n",
       "    <tr>\n",
       "      <th>race</th>\n",
       "      <td>2.945611</td>\n",
       "      <td>3.062413</td>\n",
       "      <td>3.950230</td>\n",
       "    </tr>\n",
       "    <tr>\n",
       "      <th>threat_level</th>\n",
       "      <td>0.328487</td>\n",
       "      <td>0.675451</td>\n",
       "      <td>0.299539</td>\n",
       "    </tr>\n",
       "    <tr>\n",
       "      <th>flee</th>\n",
       "      <td>1.590738</td>\n",
       "      <td>1.443828</td>\n",
       "      <td>1.769585</td>\n",
       "    </tr>\n",
       "    <tr>\n",
       "      <th>signs_of_mental_illness_False</th>\n",
       "      <td>0.766290</td>\n",
       "      <td>0.771151</td>\n",
       "      <td>0.706912</td>\n",
       "    </tr>\n",
       "    <tr>\n",
       "      <th>signs_of_mental_illness_True</th>\n",
       "      <td>0.233710</td>\n",
       "      <td>0.228849</td>\n",
       "      <td>0.293088</td>\n",
       "    </tr>\n",
       "    <tr>\n",
       "      <th>body_camera_False</th>\n",
       "      <td>0.878837</td>\n",
       "      <td>0.857143</td>\n",
       "      <td>0.909677</td>\n",
       "    </tr>\n",
       "    <tr>\n",
       "      <th>body_camera_True</th>\n",
       "      <td>0.121163</td>\n",
       "      <td>0.142857</td>\n",
       "      <td>0.090323</td>\n",
       "    </tr>\n",
       "    <tr>\n",
       "      <th>Freq</th>\n",
       "      <td>1857.000000</td>\n",
       "      <td>721.000000</td>\n",
       "      <td>1085.000000</td>\n",
       "    </tr>\n",
       "  </tbody>\n",
       "</table>\n",
       "</div>"
      ],
      "text/plain": [
       "clusters_Med                             0           1            2\n",
       "manner_of_death                   0.047388    0.074896     0.047926\n",
       "armed                            31.957997   74.611650    31.899539\n",
       "age                              29.060312   33.324549    51.458065\n",
       "gender                            0.963382    0.938974     0.950230\n",
       "race                              2.945611    3.062413     3.950230\n",
       "threat_level                      0.328487    0.675451     0.299539\n",
       "flee                              1.590738    1.443828     1.769585\n",
       "signs_of_mental_illness_False     0.766290    0.771151     0.706912\n",
       "signs_of_mental_illness_True      0.233710    0.228849     0.293088\n",
       "body_camera_False                 0.878837    0.857143     0.909677\n",
       "body_camera_True                  0.121163    0.142857     0.090323\n",
       "Freq                           1857.000000  721.000000  1085.000000"
      ]
     },
     "execution_count": 15,
     "metadata": {},
     "output_type": "execute_result"
    }
   ],
   "source": [
    "cluster_profiles = df_cluster_Med.groupby(\"clusters_Med\").mean()\n",
    "cluster_profiles['Freq']= df_cluster_Med.clusters_Med.value_counts().sort_index()\n",
    "cluster_profiles.T"
   ]
  },
  {
   "cell_type": "code",
   "execution_count": null,
   "id": "184bfc6f",
   "metadata": {
    "id": "184bfc6f",
    "outputId": "c8ddcc60-c504-4cef-9d1d-d3bbe74f6596"
   },
   "outputs": [
    {
     "data": {
      "text/html": [
       "<style type=\"text/css\">\n",
       "#T_6cb07_row0_col3, #T_6cb07_row0_col11, #T_6cb07_row1_col0, #T_6cb07_row1_col1, #T_6cb07_row1_col5, #T_6cb07_row1_col7, #T_6cb07_row1_col10, #T_6cb07_row2_col2, #T_6cb07_row2_col4, #T_6cb07_row2_col6, #T_6cb07_row2_col8, #T_6cb07_row2_col9 {\n",
       "  background-color: lightgreen;\n",
       "}\n",
       "</style>\n",
       "<table id=\"T_6cb07_\">\n",
       "  <thead>\n",
       "    <tr>\n",
       "      <th class=\"blank level0\" >&nbsp;</th>\n",
       "      <th class=\"col_heading level0 col0\" >manner_of_death</th>\n",
       "      <th class=\"col_heading level0 col1\" >armed</th>\n",
       "      <th class=\"col_heading level0 col2\" >age</th>\n",
       "      <th class=\"col_heading level0 col3\" >gender</th>\n",
       "      <th class=\"col_heading level0 col4\" >race</th>\n",
       "      <th class=\"col_heading level0 col5\" >threat_level</th>\n",
       "      <th class=\"col_heading level0 col6\" >flee</th>\n",
       "      <th class=\"col_heading level0 col7\" >signs_of_mental_illness_False</th>\n",
       "      <th class=\"col_heading level0 col8\" >signs_of_mental_illness_True</th>\n",
       "      <th class=\"col_heading level0 col9\" >body_camera_False</th>\n",
       "      <th class=\"col_heading level0 col10\" >body_camera_True</th>\n",
       "      <th class=\"col_heading level0 col11\" >Freq</th>\n",
       "    </tr>\n",
       "    <tr>\n",
       "      <th class=\"index_name level0\" >clusters_Med</th>\n",
       "      <th class=\"blank col0\" >&nbsp;</th>\n",
       "      <th class=\"blank col1\" >&nbsp;</th>\n",
       "      <th class=\"blank col2\" >&nbsp;</th>\n",
       "      <th class=\"blank col3\" >&nbsp;</th>\n",
       "      <th class=\"blank col4\" >&nbsp;</th>\n",
       "      <th class=\"blank col5\" >&nbsp;</th>\n",
       "      <th class=\"blank col6\" >&nbsp;</th>\n",
       "      <th class=\"blank col7\" >&nbsp;</th>\n",
       "      <th class=\"blank col8\" >&nbsp;</th>\n",
       "      <th class=\"blank col9\" >&nbsp;</th>\n",
       "      <th class=\"blank col10\" >&nbsp;</th>\n",
       "      <th class=\"blank col11\" >&nbsp;</th>\n",
       "    </tr>\n",
       "  </thead>\n",
       "  <tbody>\n",
       "    <tr>\n",
       "      <th id=\"T_6cb07_level0_row0\" class=\"row_heading level0 row0\" >0</th>\n",
       "      <td id=\"T_6cb07_row0_col0\" class=\"data row0 col0\" >0.047388</td>\n",
       "      <td id=\"T_6cb07_row0_col1\" class=\"data row0 col1\" >31.957997</td>\n",
       "      <td id=\"T_6cb07_row0_col2\" class=\"data row0 col2\" >29.060312</td>\n",
       "      <td id=\"T_6cb07_row0_col3\" class=\"data row0 col3\" >0.963382</td>\n",
       "      <td id=\"T_6cb07_row0_col4\" class=\"data row0 col4\" >2.945611</td>\n",
       "      <td id=\"T_6cb07_row0_col5\" class=\"data row0 col5\" >0.328487</td>\n",
       "      <td id=\"T_6cb07_row0_col6\" class=\"data row0 col6\" >1.590738</td>\n",
       "      <td id=\"T_6cb07_row0_col7\" class=\"data row0 col7\" >0.766290</td>\n",
       "      <td id=\"T_6cb07_row0_col8\" class=\"data row0 col8\" >0.233710</td>\n",
       "      <td id=\"T_6cb07_row0_col9\" class=\"data row0 col9\" >0.878837</td>\n",
       "      <td id=\"T_6cb07_row0_col10\" class=\"data row0 col10\" >0.121163</td>\n",
       "      <td id=\"T_6cb07_row0_col11\" class=\"data row0 col11\" >1857</td>\n",
       "    </tr>\n",
       "    <tr>\n",
       "      <th id=\"T_6cb07_level0_row1\" class=\"row_heading level0 row1\" >1</th>\n",
       "      <td id=\"T_6cb07_row1_col0\" class=\"data row1 col0\" >0.074896</td>\n",
       "      <td id=\"T_6cb07_row1_col1\" class=\"data row1 col1\" >74.611650</td>\n",
       "      <td id=\"T_6cb07_row1_col2\" class=\"data row1 col2\" >33.324549</td>\n",
       "      <td id=\"T_6cb07_row1_col3\" class=\"data row1 col3\" >0.938974</td>\n",
       "      <td id=\"T_6cb07_row1_col4\" class=\"data row1 col4\" >3.062413</td>\n",
       "      <td id=\"T_6cb07_row1_col5\" class=\"data row1 col5\" >0.675451</td>\n",
       "      <td id=\"T_6cb07_row1_col6\" class=\"data row1 col6\" >1.443828</td>\n",
       "      <td id=\"T_6cb07_row1_col7\" class=\"data row1 col7\" >0.771151</td>\n",
       "      <td id=\"T_6cb07_row1_col8\" class=\"data row1 col8\" >0.228849</td>\n",
       "      <td id=\"T_6cb07_row1_col9\" class=\"data row1 col9\" >0.857143</td>\n",
       "      <td id=\"T_6cb07_row1_col10\" class=\"data row1 col10\" >0.142857</td>\n",
       "      <td id=\"T_6cb07_row1_col11\" class=\"data row1 col11\" >721</td>\n",
       "    </tr>\n",
       "    <tr>\n",
       "      <th id=\"T_6cb07_level0_row2\" class=\"row_heading level0 row2\" >2</th>\n",
       "      <td id=\"T_6cb07_row2_col0\" class=\"data row2 col0\" >0.047926</td>\n",
       "      <td id=\"T_6cb07_row2_col1\" class=\"data row2 col1\" >31.899539</td>\n",
       "      <td id=\"T_6cb07_row2_col2\" class=\"data row2 col2\" >51.458065</td>\n",
       "      <td id=\"T_6cb07_row2_col3\" class=\"data row2 col3\" >0.950230</td>\n",
       "      <td id=\"T_6cb07_row2_col4\" class=\"data row2 col4\" >3.950230</td>\n",
       "      <td id=\"T_6cb07_row2_col5\" class=\"data row2 col5\" >0.299539</td>\n",
       "      <td id=\"T_6cb07_row2_col6\" class=\"data row2 col6\" >1.769585</td>\n",
       "      <td id=\"T_6cb07_row2_col7\" class=\"data row2 col7\" >0.706912</td>\n",
       "      <td id=\"T_6cb07_row2_col8\" class=\"data row2 col8\" >0.293088</td>\n",
       "      <td id=\"T_6cb07_row2_col9\" class=\"data row2 col9\" >0.909677</td>\n",
       "      <td id=\"T_6cb07_row2_col10\" class=\"data row2 col10\" >0.090323</td>\n",
       "      <td id=\"T_6cb07_row2_col11\" class=\"data row2 col11\" >1085</td>\n",
       "    </tr>\n",
       "  </tbody>\n",
       "</table>\n"
      ],
      "text/plain": [
       "<pandas.io.formats.style.Styler at 0x1e1699cf340>"
      ]
     },
     "execution_count": 17,
     "metadata": {},
     "output_type": "execute_result"
    }
   ],
   "source": [
    "# let's display cluster profiles\n",
    "cluster_profiles.style.highlight_max(color=\"lightgreen\", axis=0)"
   ]
  },
  {
   "cell_type": "markdown",
   "id": "5d7101d7",
   "metadata": {
    "id": "5d7101d7"
   },
   "source": [
    "### Interpretation\n",
    "* Cluster 0  = Highest number of victims belong this group. These people are also young compared to other groups.\n",
    "* Cluster 1 = Least number of victims belong to this group. These people are mentally stable.\n",
    "* Cluster 2 = Most of the victims who are older comparitively belong to this group. These people are having highest sign of mental illness.\n"
   ]
  },
  {
   "cell_type": "markdown",
   "id": "c1ca0d55",
   "metadata": {
    "id": "c1ca0d55"
   },
   "source": [
    "### Visualization of clusters\n",
    "\n",
    "- Since most of our variables are categorical in nature let's plot countplot to visualize the formed clusters.\n"
   ]
  },
  {
   "cell_type": "markdown",
   "id": "a17a3bca",
   "metadata": {
    "id": "a17a3bca"
   },
   "source": [
    "#### K Means Clusters "
   ]
  },
  {
   "cell_type": "code",
   "execution_count": null,
   "id": "b103b18b",
   "metadata": {
    "id": "b103b18b",
    "outputId": "ee26762c-13b2-46b1-afe4-d1df4cc1ef6a"
   },
   "outputs": [
    {
     "data": {
      "image/png": "[encoded data removed]",
      "text/plain": [
       "<Figure size 1080x360 with 1 Axes>"
      ]
     },
     "metadata": {
      "needs_background": "light"
     },
     "output_type": "display_data"
    }
   ],
   "source": [
    "# Plot race clusters\n",
    "plt.subplots(figsize = (15,5))\n",
    "sns.countplot(x=df_cluster['race'],order=df_cluster['race'].value_counts().index,hue=df_cluster['clusters'])\n",
    "plt.show()"
   ]
  },
  {
   "cell_type": "code",
   "execution_count": null,
   "id": "d782d7f4",
   "metadata": {
    "id": "d782d7f4",
    "outputId": "50aee40a-10f2-4727-dac6-d3e4e81628eb"
   },
   "outputs": [
    {
     "data": {
      "image/png": "[encoded data removed]",
      "text/plain": [
       "<Figure size 1080x360 with 1 Axes>"
      ]
     },
     "metadata": {
      "needs_background": "light"
     },
     "output_type": "display_data"
    }
   ],
   "source": [
    "# Plot gender clusters\n",
    "plt.subplots(figsize = (15,5))\n",
    "sns.countplot(x=df_cluster['gender'],order=df_cluster['gender'].value_counts().index,hue=df_cluster['clusters'])\n",
    "plt.show()"
   ]
  },
  {
   "cell_type": "markdown",
   "id": "be9758d9",
   "metadata": {
    "id": "be9758d9"
   },
   "source": [
    "#### K Medoids Clusters"
   ]
  },
  {
   "cell_type": "code",
   "execution_count": null,
   "id": "fe93dc9b",
   "metadata": {
    "id": "fe93dc9b",
    "outputId": "eb49cb22-a7dd-4cc7-c976-2dd211d85a89"
   },
   "outputs": [
    {
     "data": {
      "image/png": "[encoded data removed]",
      "text/plain": [
       "<Figure size 1080x360 with 1 Axes>"
      ]
     },
     "metadata": {
      "needs_background": "light"
     },
     "output_type": "display_data"
    }
   ],
   "source": [
    "# Plot race clusters\n",
    "plt.subplots(figsize = (15,5))\n",
    "sns.countplot(x=df_cluster_Med['race'],order=df_cluster_Med['race'].value_counts().index,hue=df_cluster_Med['clusters_Med'])\n",
    "plt.show()"
   ]
  },
  {
   "cell_type": "code",
   "execution_count": null,
   "id": "07383d18",
   "metadata": {
    "id": "07383d18",
    "outputId": "457d2a42-8388-419f-8119-5c7debb570db"
   },
   "outputs": [
    {
     "data": {
      "image/png": "[encoded data removed]",
      "text/plain": [
       "<Figure size 1080x360 with 1 Axes>"
      ]
     },
     "metadata": {
      "needs_background": "light"
     },
     "output_type": "display_data"
    }
   ],
   "source": [
    "# Plot gender clusters\n",
    "plt.subplots(figsize = (15,5))\n",
    "sns.countplot(x=df_cluster_Med['gender'],order=df_cluster_Med['gender'].value_counts().index,hue=df_cluster_Med['clusters_Med'])\n",
    "plt.show()"
   ]
  },
  {
   "cell_type": "markdown",
   "id": "290cb648",
   "metadata": {
    "id": "290cb648"
   },
   "source": [
    "#### Conclusion: \n",
    "* From Cluster profiling and Visualization, we can observe that K-means and K-medoids(PAM) both are giving almost the same results.\n",
    "* Optimal number of clusters seems to be 3.\n",
    "* Since most of our variables are categorical in nature we can rely on K Medoids.\n"
   ]
  },
  {
   "cell_type": "code",
   "execution_count": null,
   "id": "0079cf16",
   "metadata": {
    "id": "0079cf16"
   },
   "outputs": [],
   "source": []
  }
 ],
 "metadata": {
  "colab": {
   "provenance": []
  },
  "kernelspec": {
   "display_name": "Python 3 (ipykernel)",
   "language": "python",
   "name": "python3"
  },
  "language_info": {
   "codemirror_mode": {
    "name": "ipython",
    "version": 3
   },
   "file_extension": ".py",
   "mimetype": "text/x-python",
   "name": "python",
   "nbconvert_exporter": "python",
   "pygments_lexer": "ipython3",
   "version": "3.11.4"
  }
 },
 "nbformat": 4,
 "nbformat_minor": 5
}
